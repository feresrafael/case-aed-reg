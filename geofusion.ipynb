{
  "nbformat": 4,
  "nbformat_minor": 0,
  "metadata": {
    "colab": {
      "name": "geofusion.ipynb",
      "provenance": [],
      "toc_visible": true,
      "authorship_tag": "ABX9TyOiZ5pNiyrTosyPjtO/ThRT",
      "include_colab_link": true
    },
    "kernelspec": {
      "name": "python3",
      "display_name": "Python 3"
    },
    "language_info": {
      "name": "python"
    }
  },
  "cells": [
    {
      "cell_type": "markdown",
      "metadata": {
        "id": "view-in-github",
        "colab_type": "text"
      },
      "source": [
        "<a href=\"https://colab.research.google.com/github/feresrafael/case-aed-reg/blob/main/geofusion.ipynb\" target=\"_parent\"><img src=\"https://colab.research.google.com/assets/colab-badge.svg\" alt=\"Open In Colab\"/></a>"
      ]
    },
    {
      "cell_type": "markdown",
      "metadata": {
        "id": "kR0u2-9Tt_-3"
      },
      "source": [
        "# Importação dos Dados"
      ]
    },
    {
      "cell_type": "code",
      "metadata": {
        "id": "qzA4Ta2Od_pA"
      },
      "source": [
        "import numpy as np\n",
        "import pandas as pd"
      ],
      "execution_count": null,
      "outputs": []
    },
    {
      "cell_type": "code",
      "metadata": {
        "colab": {
          "base_uri": "https://localhost:8080/"
        },
        "id": "HX27SNtMbe_Q",
        "outputId": "0949a2db-f200-45db-cb80-5d1b7639c1bb"
      },
      "source": [
        "from google.colab import drive\n",
        "drive.flush_and_unmount()\n",
        "drive.mount('/content/drive')"
      ],
      "execution_count": null,
      "outputs": [
        {
          "output_type": "stream",
          "text": [
            "Drive not mounted, so nothing to flush and unmount.\n",
            "Mounted at /content/drive\n"
          ],
          "name": "stdout"
        }
      ]
    },
    {
      "cell_type": "code",
      "metadata": {
        "id": "0mkZUA5TeRSA"
      },
      "source": [
        "# DataFrame padrão\n",
        "data = pd.read_csv('/content/drive/MyDrive/DesafioEstagioMachineLearning.csv', index_col=0)"
      ],
      "execution_count": null,
      "outputs": []
    },
    {
      "cell_type": "markdown",
      "metadata": {
        "id": "EY-RPb5sd_ie"
      },
      "source": [
        "# Plots Iniciais"
      ]
    },
    {
      "cell_type": "code",
      "metadata": {
        "colab": {
          "base_uri": "https://localhost:8080/"
        },
        "id": "UTpcJUE5gIdM",
        "outputId": "dbc58023-d930-4b68-88ee-968221d96693"
      },
      "source": [
        "data.shape"
      ],
      "execution_count": null,
      "outputs": [
        {
          "output_type": "execute_result",
          "data": {
            "text/plain": [
              "(160, 22)"
            ]
          },
          "metadata": {
            "tags": []
          },
          "execution_count": 6
        }
      ]
    },
    {
      "cell_type": "code",
      "metadata": {
        "colab": {
          "base_uri": "https://localhost:8080/"
        },
        "id": "kx0n5cArgc0Y",
        "outputId": "33b00b7a-b54b-467b-8ecf-e709192665d7"
      },
      "source": [
        "data.describe"
      ],
      "execution_count": null,
      "outputs": [
        {
          "output_type": "execute_result",
          "data": {
            "text/plain": [
              "<bound method NDFrame.describe of                          nome          cidade  ... rendaMedia  faturamento\n",
              "codigo                                         ...                        \n",
              "3304557060           Abolição  Rio de Janeiro  ...     2501.0     932515.0\n",
              "3304557138              Acari  Rio de Janeiro  ...      931.0     588833.0\n",
              "3304557057         Água Santa  Rio de Janeiro  ...     2391.0     874200.0\n",
              "3304557031  Alto Da Boa Vista  Rio de Janeiro  ...     3727.0     912226.0\n",
              "3304557125           Anchieta  Rio de Janeiro  ...     1380.0     553020.0\n",
              "...                       ...             ...  ...        ...          ...\n",
              "3304557062        Vila Kosmos  Rio de Janeiro  ...     2316.0     901446.0\n",
              "3304557093       Vila Militar  Rio de Janeiro  ...     2416.0     849731.0\n",
              "3304557091     Vila Valqueire  Rio de Janeiro  ...     3189.0    1127042.0\n",
              "3304557065       Vista Alegre  Rio de Janeiro  ...     2418.0     921875.0\n",
              "3304557110              Zumbi  Rio de Janeiro  ...     3791.0     919451.0\n",
              "\n",
              "[160 rows x 22 columns]>"
            ]
          },
          "metadata": {
            "tags": []
          },
          "execution_count": 7
        }
      ]
    },
    {
      "cell_type": "code",
      "metadata": {
        "colab": {
          "base_uri": "https://localhost:8080/",
          "height": 357
        },
        "id": "HKZXlgIVgDuR",
        "outputId": "148a5319-0e1d-4254-a4d5-8ff04201a27f"
      },
      "source": [
        "data.head()"
      ],
      "execution_count": null,
      "outputs": [
        {
          "output_type": "execute_result",
          "data": {
            "text/html": [
              "<div>\n",
              "<style scoped>\n",
              "    .dataframe tbody tr th:only-of-type {\n",
              "        vertical-align: middle;\n",
              "    }\n",
              "\n",
              "    .dataframe tbody tr th {\n",
              "        vertical-align: top;\n",
              "    }\n",
              "\n",
              "    .dataframe thead th {\n",
              "        text-align: right;\n",
              "    }\n",
              "</style>\n",
              "<table border=\"1\" class=\"dataframe\">\n",
              "  <thead>\n",
              "    <tr style=\"text-align: right;\">\n",
              "      <th></th>\n",
              "      <th>nome</th>\n",
              "      <th>cidade</th>\n",
              "      <th>estado</th>\n",
              "      <th>população</th>\n",
              "      <th>popAte9</th>\n",
              "      <th>popDe10a14</th>\n",
              "      <th>popDe15a19</th>\n",
              "      <th>popDe20a24</th>\n",
              "      <th>popDe25a34</th>\n",
              "      <th>popDe35a49</th>\n",
              "      <th>popDe50a59</th>\n",
              "      <th>popMaisDe60</th>\n",
              "      <th>domiciliosA1</th>\n",
              "      <th>domiciliosA2</th>\n",
              "      <th>domiciliosB1</th>\n",
              "      <th>domiciliosB2</th>\n",
              "      <th>domiciliosC1</th>\n",
              "      <th>domiciliosC2</th>\n",
              "      <th>domiciliosD</th>\n",
              "      <th>domiciliosE</th>\n",
              "      <th>rendaMedia</th>\n",
              "      <th>faturamento</th>\n",
              "    </tr>\n",
              "    <tr>\n",
              "      <th>codigo</th>\n",
              "      <th></th>\n",
              "      <th></th>\n",
              "      <th></th>\n",
              "      <th></th>\n",
              "      <th></th>\n",
              "      <th></th>\n",
              "      <th></th>\n",
              "      <th></th>\n",
              "      <th></th>\n",
              "      <th></th>\n",
              "      <th></th>\n",
              "      <th></th>\n",
              "      <th></th>\n",
              "      <th></th>\n",
              "      <th></th>\n",
              "      <th></th>\n",
              "      <th></th>\n",
              "      <th></th>\n",
              "      <th></th>\n",
              "      <th></th>\n",
              "      <th></th>\n",
              "      <th></th>\n",
              "    </tr>\n",
              "  </thead>\n",
              "  <tbody>\n",
              "    <tr>\n",
              "      <th>3304557060</th>\n",
              "      <td>Abolição</td>\n",
              "      <td>Rio de Janeiro</td>\n",
              "      <td>RJ</td>\n",
              "      <td>11676</td>\n",
              "      <td>1027</td>\n",
              "      <td>483</td>\n",
              "      <td>688</td>\n",
              "      <td>800</td>\n",
              "      <td>1675</td>\n",
              "      <td>2300</td>\n",
              "      <td>1784</td>\n",
              "      <td>2919</td>\n",
              "      <td>0</td>\n",
              "      <td>145</td>\n",
              "      <td>715</td>\n",
              "      <td>1242</td>\n",
              "      <td>1093</td>\n",
              "      <td>758</td>\n",
              "      <td>92</td>\n",
              "      <td>304</td>\n",
              "      <td>2501.0</td>\n",
              "      <td>932515.0</td>\n",
              "    </tr>\n",
              "    <tr>\n",
              "      <th>3304557138</th>\n",
              "      <td>Acari</td>\n",
              "      <td>Rio de Janeiro</td>\n",
              "      <td>RJ</td>\n",
              "      <td>27564</td>\n",
              "      <td>5131</td>\n",
              "      <td>2188</td>\n",
              "      <td>2697</td>\n",
              "      <td>2630</td>\n",
              "      <td>4810</td>\n",
              "      <td>5308</td>\n",
              "      <td>2403</td>\n",
              "      <td>2397</td>\n",
              "      <td>0</td>\n",
              "      <td>0</td>\n",
              "      <td>82</td>\n",
              "      <td>506</td>\n",
              "      <td>2040</td>\n",
              "      <td>2490</td>\n",
              "      <td>827</td>\n",
              "      <td>2506</td>\n",
              "      <td>931.0</td>\n",
              "      <td>588833.0</td>\n",
              "    </tr>\n",
              "    <tr>\n",
              "      <th>3304557057</th>\n",
              "      <td>Água Santa</td>\n",
              "      <td>Rio de Janeiro</td>\n",
              "      <td>RJ</td>\n",
              "      <td>9003</td>\n",
              "      <td>883</td>\n",
              "      <td>399</td>\n",
              "      <td>597</td>\n",
              "      <td>762</td>\n",
              "      <td>1755</td>\n",
              "      <td>2076</td>\n",
              "      <td>1112</td>\n",
              "      <td>1419</td>\n",
              "      <td>0</td>\n",
              "      <td>96</td>\n",
              "      <td>404</td>\n",
              "      <td>652</td>\n",
              "      <td>644</td>\n",
              "      <td>522</td>\n",
              "      <td>77</td>\n",
              "      <td>254</td>\n",
              "      <td>2391.0</td>\n",
              "      <td>874200.0</td>\n",
              "    </tr>\n",
              "    <tr>\n",
              "      <th>3304557031</th>\n",
              "      <td>Alto Da Boa Vista</td>\n",
              "      <td>Rio de Janeiro</td>\n",
              "      <td>RJ</td>\n",
              "      <td>9606</td>\n",
              "      <td>1072</td>\n",
              "      <td>538</td>\n",
              "      <td>660</td>\n",
              "      <td>685</td>\n",
              "      <td>1317</td>\n",
              "      <td>2007</td>\n",
              "      <td>1341</td>\n",
              "      <td>1986</td>\n",
              "      <td>114</td>\n",
              "      <td>178</td>\n",
              "      <td>393</td>\n",
              "      <td>517</td>\n",
              "      <td>945</td>\n",
              "      <td>584</td>\n",
              "      <td>137</td>\n",
              "      <td>286</td>\n",
              "      <td>3727.0</td>\n",
              "      <td>912226.0</td>\n",
              "    </tr>\n",
              "    <tr>\n",
              "      <th>3304557125</th>\n",
              "      <td>Anchieta</td>\n",
              "      <td>Rio de Janeiro</td>\n",
              "      <td>RJ</td>\n",
              "      <td>57222</td>\n",
              "      <td>7677</td>\n",
              "      <td>3774</td>\n",
              "      <td>4892</td>\n",
              "      <td>4600</td>\n",
              "      <td>8660</td>\n",
              "      <td>12272</td>\n",
              "      <td>7157</td>\n",
              "      <td>8190</td>\n",
              "      <td>0</td>\n",
              "      <td>0</td>\n",
              "      <td>1089</td>\n",
              "      <td>2821</td>\n",
              "      <td>5110</td>\n",
              "      <td>5422</td>\n",
              "      <td>1073</td>\n",
              "      <td>3261</td>\n",
              "      <td>1380.0</td>\n",
              "      <td>553020.0</td>\n",
              "    </tr>\n",
              "  </tbody>\n",
              "</table>\n",
              "</div>"
            ],
            "text/plain": [
              "                         nome          cidade  ... rendaMedia  faturamento\n",
              "codigo                                         ...                        \n",
              "3304557060           Abolição  Rio de Janeiro  ...     2501.0     932515.0\n",
              "3304557138              Acari  Rio de Janeiro  ...      931.0     588833.0\n",
              "3304557057         Água Santa  Rio de Janeiro  ...     2391.0     874200.0\n",
              "3304557031  Alto Da Boa Vista  Rio de Janeiro  ...     3727.0     912226.0\n",
              "3304557125           Anchieta  Rio de Janeiro  ...     1380.0     553020.0\n",
              "\n",
              "[5 rows x 22 columns]"
            ]
          },
          "metadata": {
            "tags": []
          },
          "execution_count": 5
        }
      ]
    },
    {
      "cell_type": "code",
      "metadata": {
        "colab": {
          "base_uri": "https://localhost:8080/"
        },
        "id": "ZHGqB18OFpkA",
        "outputId": "2b8150b0-dce6-4ac2-d91b-15cb860db313"
      },
      "source": [
        "data.dtypes"
      ],
      "execution_count": null,
      "outputs": [
        {
          "output_type": "execute_result",
          "data": {
            "text/plain": [
              "nome             object\n",
              "cidade           object\n",
              "estado           object\n",
              "população         int64\n",
              "popAte9           int64\n",
              "popDe10a14        int64\n",
              "popDe15a19        int64\n",
              "popDe20a24        int64\n",
              "popDe25a34        int64\n",
              "popDe35a49        int64\n",
              "popDe50a59        int64\n",
              "popMaisDe60       int64\n",
              "domiciliosA1      int64\n",
              "domiciliosA2      int64\n",
              "domiciliosB1      int64\n",
              "domiciliosB2      int64\n",
              "domiciliosC1      int64\n",
              "domiciliosC2      int64\n",
              "domiciliosD       int64\n",
              "domiciliosE       int64\n",
              "rendaMedia      float64\n",
              "faturamento     float64\n",
              "dtype: object"
            ]
          },
          "metadata": {
            "tags": []
          },
          "execution_count": 8
        }
      ]
    },
    {
      "cell_type": "code",
      "metadata": {
        "colab": {
          "base_uri": "https://localhost:8080/",
          "height": 640
        },
        "id": "7l2Cdr-NjDAU",
        "outputId": "809c7039-249d-4852-cd47-e5439f5bc560"
      },
      "source": [
        "data.sort_values(by='domiciliosA1', ascending = False)"
      ],
      "execution_count": null,
      "outputs": [
        {
          "output_type": "execute_result",
          "data": {
            "text/html": [
              "<div>\n",
              "<style scoped>\n",
              "    .dataframe tbody tr th:only-of-type {\n",
              "        vertical-align: middle;\n",
              "    }\n",
              "\n",
              "    .dataframe tbody tr th {\n",
              "        vertical-align: top;\n",
              "    }\n",
              "\n",
              "    .dataframe thead th {\n",
              "        text-align: right;\n",
              "    }\n",
              "</style>\n",
              "<table border=\"1\" class=\"dataframe\">\n",
              "  <thead>\n",
              "    <tr style=\"text-align: right;\">\n",
              "      <th></th>\n",
              "      <th>nome</th>\n",
              "      <th>cidade</th>\n",
              "      <th>estado</th>\n",
              "      <th>população</th>\n",
              "      <th>popAte9</th>\n",
              "      <th>popDe10a14</th>\n",
              "      <th>popDe15a19</th>\n",
              "      <th>popDe20a24</th>\n",
              "      <th>popDe25a34</th>\n",
              "      <th>popDe35a49</th>\n",
              "      <th>popDe50a59</th>\n",
              "      <th>popMaisDe60</th>\n",
              "      <th>domiciliosA1</th>\n",
              "      <th>domiciliosA2</th>\n",
              "      <th>domiciliosB1</th>\n",
              "      <th>domiciliosB2</th>\n",
              "      <th>domiciliosC1</th>\n",
              "      <th>domiciliosC2</th>\n",
              "      <th>domiciliosD</th>\n",
              "      <th>domiciliosE</th>\n",
              "      <th>rendaMedia</th>\n",
              "      <th>faturamento</th>\n",
              "    </tr>\n",
              "    <tr>\n",
              "      <th>codigo</th>\n",
              "      <th></th>\n",
              "      <th></th>\n",
              "      <th></th>\n",
              "      <th></th>\n",
              "      <th></th>\n",
              "      <th></th>\n",
              "      <th></th>\n",
              "      <th></th>\n",
              "      <th></th>\n",
              "      <th></th>\n",
              "      <th></th>\n",
              "      <th></th>\n",
              "      <th></th>\n",
              "      <th></th>\n",
              "      <th></th>\n",
              "      <th></th>\n",
              "      <th></th>\n",
              "      <th></th>\n",
              "      <th></th>\n",
              "      <th></th>\n",
              "      <th></th>\n",
              "      <th></th>\n",
              "    </tr>\n",
              "  </thead>\n",
              "  <tbody>\n",
              "    <tr>\n",
              "      <th>3304557131</th>\n",
              "      <td>Barra Da Tijuca</td>\n",
              "      <td>Rio de Janeiro</td>\n",
              "      <td>RJ</td>\n",
              "      <td>139761</td>\n",
              "      <td>13038</td>\n",
              "      <td>5225</td>\n",
              "      <td>7432</td>\n",
              "      <td>8627</td>\n",
              "      <td>21914</td>\n",
              "      <td>32089</td>\n",
              "      <td>21058</td>\n",
              "      <td>30378</td>\n",
              "      <td>13408</td>\n",
              "      <td>11668</td>\n",
              "      <td>14820</td>\n",
              "      <td>5205</td>\n",
              "      <td>3437</td>\n",
              "      <td>1841</td>\n",
              "      <td>0</td>\n",
              "      <td>3897</td>\n",
              "      <td>18084.0</td>\n",
              "      <td>2915612.0</td>\n",
              "    </tr>\n",
              "    <tr>\n",
              "      <th>3304557018</th>\n",
              "      <td>Copacabana</td>\n",
              "      <td>Rio de Janeiro</td>\n",
              "      <td>RJ</td>\n",
              "      <td>150524</td>\n",
              "      <td>8562</td>\n",
              "      <td>3727</td>\n",
              "      <td>6383</td>\n",
              "      <td>9168</td>\n",
              "      <td>21814</td>\n",
              "      <td>27567</td>\n",
              "      <td>21858</td>\n",
              "      <td>51445</td>\n",
              "      <td>5740</td>\n",
              "      <td>9218</td>\n",
              "      <td>19350</td>\n",
              "      <td>13160</td>\n",
              "      <td>10982</td>\n",
              "      <td>5482</td>\n",
              "      <td>998</td>\n",
              "      <td>5122</td>\n",
              "      <td>7381.0</td>\n",
              "      <td>2384494.0</td>\n",
              "    </tr>\n",
              "    <tr>\n",
              "      <th>3304557020</th>\n",
              "      <td>Leblon</td>\n",
              "      <td>Rio de Janeiro</td>\n",
              "      <td>RJ</td>\n",
              "      <td>47342</td>\n",
              "      <td>3134</td>\n",
              "      <td>1380</td>\n",
              "      <td>2131</td>\n",
              "      <td>2390</td>\n",
              "      <td>6177</td>\n",
              "      <td>9519</td>\n",
              "      <td>7181</td>\n",
              "      <td>15430</td>\n",
              "      <td>5423</td>\n",
              "      <td>3532</td>\n",
              "      <td>5342</td>\n",
              "      <td>1863</td>\n",
              "      <td>1890</td>\n",
              "      <td>917</td>\n",
              "      <td>217</td>\n",
              "      <td>1595</td>\n",
              "      <td>14738.0</td>\n",
              "      <td>2119774.0</td>\n",
              "    </tr>\n",
              "    <tr>\n",
              "      <th>3304557030</th>\n",
              "      <td>Tijuca</td>\n",
              "      <td>Rio de Janeiro</td>\n",
              "      <td>RJ</td>\n",
              "      <td>168267</td>\n",
              "      <td>13033</td>\n",
              "      <td>6405</td>\n",
              "      <td>9750</td>\n",
              "      <td>10968</td>\n",
              "      <td>23657</td>\n",
              "      <td>33313</td>\n",
              "      <td>23892</td>\n",
              "      <td>47249</td>\n",
              "      <td>4351</td>\n",
              "      <td>8306</td>\n",
              "      <td>19076</td>\n",
              "      <td>11631</td>\n",
              "      <td>10755</td>\n",
              "      <td>6539</td>\n",
              "      <td>1280</td>\n",
              "      <td>3723</td>\n",
              "      <td>7844.0</td>\n",
              "      <td>2157079.0</td>\n",
              "    </tr>\n",
              "    <tr>\n",
              "      <th>3304557019</th>\n",
              "      <td>Ipanema</td>\n",
              "      <td>Rio de Janeiro</td>\n",
              "      <td>RJ</td>\n",
              "      <td>43948</td>\n",
              "      <td>3061</td>\n",
              "      <td>1311</td>\n",
              "      <td>1957</td>\n",
              "      <td>2395</td>\n",
              "      <td>5854</td>\n",
              "      <td>8665</td>\n",
              "      <td>6344</td>\n",
              "      <td>14361</td>\n",
              "      <td>4213</td>\n",
              "      <td>3432</td>\n",
              "      <td>4478</td>\n",
              "      <td>2323</td>\n",
              "      <td>2141</td>\n",
              "      <td>1369</td>\n",
              "      <td>117</td>\n",
              "      <td>1460</td>\n",
              "      <td>17188.0</td>\n",
              "      <td>1962438.0</td>\n",
              "    </tr>\n",
              "    <tr>\n",
              "      <th>...</th>\n",
              "      <td>...</td>\n",
              "      <td>...</td>\n",
              "      <td>...</td>\n",
              "      <td>...</td>\n",
              "      <td>...</td>\n",
              "      <td>...</td>\n",
              "      <td>...</td>\n",
              "      <td>...</td>\n",
              "      <td>...</td>\n",
              "      <td>...</td>\n",
              "      <td>...</td>\n",
              "      <td>...</td>\n",
              "      <td>...</td>\n",
              "      <td>...</td>\n",
              "      <td>...</td>\n",
              "      <td>...</td>\n",
              "      <td>...</td>\n",
              "      <td>...</td>\n",
              "      <td>...</td>\n",
              "      <td>...</td>\n",
              "      <td>...</td>\n",
              "      <td>...</td>\n",
              "    </tr>\n",
              "    <tr>\n",
              "      <th>3304557051</th>\n",
              "      <td>Engenho Novo</td>\n",
              "      <td>Rio de Janeiro</td>\n",
              "      <td>RJ</td>\n",
              "      <td>43362</td>\n",
              "      <td>4830</td>\n",
              "      <td>2351</td>\n",
              "      <td>3163</td>\n",
              "      <td>3232</td>\n",
              "      <td>6691</td>\n",
              "      <td>9332</td>\n",
              "      <td>5771</td>\n",
              "      <td>7992</td>\n",
              "      <td>0</td>\n",
              "      <td>549</td>\n",
              "      <td>2376</td>\n",
              "      <td>3059</td>\n",
              "      <td>3959</td>\n",
              "      <td>2559</td>\n",
              "      <td>498</td>\n",
              "      <td>2109</td>\n",
              "      <td>2325.0</td>\n",
              "      <td>932007.0</td>\n",
              "    </tr>\n",
              "    <tr>\n",
              "      <th>3304557056</th>\n",
              "      <td>Engenho De Dentro</td>\n",
              "      <td>Rio de Janeiro</td>\n",
              "      <td>RJ</td>\n",
              "      <td>46584</td>\n",
              "      <td>4626</td>\n",
              "      <td>2233</td>\n",
              "      <td>3107</td>\n",
              "      <td>3259</td>\n",
              "      <td>6866</td>\n",
              "      <td>9607</td>\n",
              "      <td>6492</td>\n",
              "      <td>10394</td>\n",
              "      <td>0</td>\n",
              "      <td>572</td>\n",
              "      <td>2451</td>\n",
              "      <td>3272</td>\n",
              "      <td>4174</td>\n",
              "      <td>4040</td>\n",
              "      <td>384</td>\n",
              "      <td>1815</td>\n",
              "      <td>2260.0</td>\n",
              "      <td>903559.0</td>\n",
              "    </tr>\n",
              "    <tr>\n",
              "      <th>3304557150</th>\n",
              "      <td>Engenho Da Rainha</td>\n",
              "      <td>Rio de Janeiro</td>\n",
              "      <td>RJ</td>\n",
              "      <td>27411</td>\n",
              "      <td>3235</td>\n",
              "      <td>1634</td>\n",
              "      <td>2037</td>\n",
              "      <td>1879</td>\n",
              "      <td>4404</td>\n",
              "      <td>5649</td>\n",
              "      <td>3510</td>\n",
              "      <td>5063</td>\n",
              "      <td>0</td>\n",
              "      <td>0</td>\n",
              "      <td>839</td>\n",
              "      <td>1908</td>\n",
              "      <td>2747</td>\n",
              "      <td>1885</td>\n",
              "      <td>356</td>\n",
              "      <td>1746</td>\n",
              "      <td>1620.0</td>\n",
              "      <td>805559.0</td>\n",
              "    </tr>\n",
              "    <tr>\n",
              "      <th>3304557071</th>\n",
              "      <td>Engenheiro Leal</td>\n",
              "      <td>Rio de Janeiro</td>\n",
              "      <td>RJ</td>\n",
              "      <td>6287</td>\n",
              "      <td>775</td>\n",
              "      <td>379</td>\n",
              "      <td>537</td>\n",
              "      <td>530</td>\n",
              "      <td>997</td>\n",
              "      <td>1341</td>\n",
              "      <td>782</td>\n",
              "      <td>946</td>\n",
              "      <td>0</td>\n",
              "      <td>0</td>\n",
              "      <td>121</td>\n",
              "      <td>343</td>\n",
              "      <td>627</td>\n",
              "      <td>603</td>\n",
              "      <td>89</td>\n",
              "      <td>216</td>\n",
              "      <td>1517.0</td>\n",
              "      <td>818442.0</td>\n",
              "    </tr>\n",
              "    <tr>\n",
              "      <th>3304557110</th>\n",
              "      <td>Zumbi</td>\n",
              "      <td>Rio de Janeiro</td>\n",
              "      <td>RJ</td>\n",
              "      <td>2072</td>\n",
              "      <td>175</td>\n",
              "      <td>74</td>\n",
              "      <td>120</td>\n",
              "      <td>121</td>\n",
              "      <td>318</td>\n",
              "      <td>417</td>\n",
              "      <td>314</td>\n",
              "      <td>533</td>\n",
              "      <td>0</td>\n",
              "      <td>89</td>\n",
              "      <td>234</td>\n",
              "      <td>177</td>\n",
              "      <td>147</td>\n",
              "      <td>72</td>\n",
              "      <td>10</td>\n",
              "      <td>47</td>\n",
              "      <td>3791.0</td>\n",
              "      <td>919451.0</td>\n",
              "    </tr>\n",
              "  </tbody>\n",
              "</table>\n",
              "<p>160 rows × 22 columns</p>\n",
              "</div>"
            ],
            "text/plain": [
              "                         nome          cidade  ... rendaMedia  faturamento\n",
              "codigo                                         ...                        \n",
              "3304557131    Barra Da Tijuca  Rio de Janeiro  ...    18084.0    2915612.0\n",
              "3304557018         Copacabana  Rio de Janeiro  ...     7381.0    2384494.0\n",
              "3304557020             Leblon  Rio de Janeiro  ...    14738.0    2119774.0\n",
              "3304557030             Tijuca  Rio de Janeiro  ...     7844.0    2157079.0\n",
              "3304557019            Ipanema  Rio de Janeiro  ...    17188.0    1962438.0\n",
              "...                       ...             ...  ...        ...          ...\n",
              "3304557051       Engenho Novo  Rio de Janeiro  ...     2325.0     932007.0\n",
              "3304557056  Engenho De Dentro  Rio de Janeiro  ...     2260.0     903559.0\n",
              "3304557150  Engenho Da Rainha  Rio de Janeiro  ...     1620.0     805559.0\n",
              "3304557071    Engenheiro Leal  Rio de Janeiro  ...     1517.0     818442.0\n",
              "3304557110              Zumbi  Rio de Janeiro  ...     3791.0     919451.0\n",
              "\n",
              "[160 rows x 22 columns]"
            ]
          },
          "metadata": {
            "tags": []
          },
          "execution_count": 12
        }
      ]
    },
    {
      "cell_type": "code",
      "metadata": {
        "id": "zUZTJFhNggae"
      },
      "source": [
        "import seaborn as sns\n",
        "\n",
        "%matplotlib inline"
      ],
      "execution_count": null,
      "outputs": []
    },
    {
      "cell_type": "code",
      "metadata": {
        "colab": {
          "base_uri": "https://localhost:8080/",
          "height": 411
        },
        "id": "qGE7-Bd8gwFa",
        "outputId": "79ae65b8-4796-44d5-fc51-2c27958fc973"
      },
      "source": [
        "sns.pairplot(data, x_vars=['população', 'popAte9', 'popDe10a14', 'popDe15a19', 'popDe20a24', 'popDe25a34', 'popDe35a49', 'popDe50a59', 'popMaisDe60', 'domiciliosA1', 'domiciliosA2', 'domiciliosB1', 'domiciliosB2', 'domiciliosC1', 'domiciliosC2', 'domiciliosD', 'domiciliosE', 'rendaMedia'], y_vars='faturamento', height=5, aspect=0.7, kind='reg')"
      ],
      "execution_count": null,
      "outputs": [
        {
          "output_type": "execute_result",
          "data": {
            "text/plain": [
              "<seaborn.axisgrid.PairGrid at 0x7efe19055410>"
            ]
          },
          "metadata": {
            "tags": []
          },
          "execution_count": 12
        },
        {
          "output_type": "display_data",
          "data": {
            "image/png": "[encoded data removed]",
            "text/plain": [
              "<Figure size 4536x360 with 18 Axes>"
            ]
          },
          "metadata": {
            "tags": [],
            "needs_background": "light"
          }
        }
      ]
    },
    {
      "cell_type": "code",
      "metadata": {
        "colab": {
          "base_uri": "https://localhost:8080/",
          "height": 278
        },
        "id": "_QVmaFlrm6o6",
        "outputId": "122171e5-276a-4e5d-9928-e4e0d4043d3a"
      },
      "source": [
        "import matplotlib.pyplot as plt \n",
        "x = data['faturamento']\n",
        "y = data['rendaMedia']\n",
        "plt.scatter(x, y); plt.show()"
      ],
      "execution_count": null,
      "outputs": [
        {
          "output_type": "display_data",
          "data": {
            "image/png": "[encoded data removed]",
            "text/plain": [
              "<Figure size 432x288 with 1 Axes>"
            ]
          },
          "metadata": {
            "tags": [],
            "needs_background": "light"
          }
        }
      ]
    },
    {
      "cell_type": "code",
      "metadata": {
        "colab": {
          "base_uri": "https://localhost:8080/",
          "height": 282
        },
        "id": "4UG8-rmxo5W4",
        "outputId": "ddde6757-7597-4011-ece1-e575eb8a3feb"
      },
      "source": [
        "import matplotlib.pyplot as plt \n",
        "x = data['faturamento']\n",
        "y = data['população']\n",
        "plt.scatter(x, y); plt.show()"
      ],
      "execution_count": null,
      "outputs": [
        {
          "output_type": "display_data",
          "data": {
            "image/png": "[encoded data removed]",
            "text/plain": [
              "<Figure size 432x288 with 1 Axes>"
            ]
          },
          "metadata": {
            "tags": [],
            "needs_background": "light"
          }
        }
      ]
    },
    {
      "cell_type": "code",
      "metadata": {
        "colab": {
          "base_uri": "https://localhost:8080/",
          "height": 281
        },
        "id": "pSKKmRhtpSXG",
        "outputId": "8c12a936-b95c-4d30-85bb-88692f5b2f2e"
      },
      "source": [
        "import matplotlib.pyplot as plt\n",
        "x = data['faturamento']\n",
        "y = data['domiciliosA1']\n",
        "plt.scatter(x, y); plt.show()"
      ],
      "execution_count": null,
      "outputs": [
        {
          "output_type": "display_data",
          "data": {
            "image/png": "[encoded data removed]",
            "text/plain": [
              "<Figure size 432x288 with 1 Axes>"
            ]
          },
          "metadata": {
            "tags": [],
            "needs_background": "light"
          }
        }
      ]
    },
    {
      "cell_type": "code",
      "metadata": {
        "colab": {
          "base_uri": "https://localhost:8080/",
          "height": 956
        },
        "id": "28SQvcTgqiR9",
        "outputId": "2470411e-c0d9-4b2c-840e-c08abce37c7a"
      },
      "source": [
        "import matplotlib.pyplot as plt\n",
        "\n",
        "f = plt.figure(figsize=(19, 15))\n",
        "plt.matshow(data.corr(), fignum=f.number)\n",
        "plt.xticks(range(data.select_dtypes(['number']).shape[1]), data.select_dtypes(['number']).columns, fontsize=14, rotation=45)\n",
        "plt.yticks(range(data.select_dtypes(['number']).shape[1]), data.select_dtypes(['number']).columns, fontsize=14)\n",
        "cb = plt.colorbar()\n",
        "cb.ax.tick_params(labelsize=14)\n",
        "plt.title('Correlation Matrix', fontsize=16);"
      ],
      "execution_count": null,
      "outputs": [
        {
          "output_type": "display_data",
          "data": {
            "image/png": "[encoded data removed]",
            "text/plain": [
              "<Figure size 1368x1080 with 2 Axes>"
            ]
          },
          "metadata": {
            "tags": [],
            "needs_background": "light"
          }
        }
      ]
    },
    {
      "cell_type": "markdown",
      "metadata": {
        "id": "PAnkq6Wvr9PD"
      },
      "source": [
        "Bairros com maior fatutameto"
      ]
    },
    {
      "cell_type": "code",
      "metadata": {
        "colab": {
          "base_uri": "https://localhost:8080/",
          "height": 374
        },
        "id": "46lmaTyToBdn",
        "outputId": "52d2861c-b230-4483-fcf6-151f917f5ea9"
      },
      "source": [
        "dtop = data.nlargest(5, 'faturamento')\n",
        "# a simple line plot\n",
        "dtop.plot(kind='bar',x='nome',y='faturamento')"
      ],
      "execution_count": null,
      "outputs": [
        {
          "output_type": "execute_result",
          "data": {
            "text/plain": [
              "<matplotlib.axes._subplots.AxesSubplot at 0x7efe0976bb10>"
            ]
          },
          "metadata": {
            "tags": []
          },
          "execution_count": 61
        },
        {
          "output_type": "display_data",
          "data": {
            "image/png": "[encoded data removed]",
            "text/plain": [
              "<Figure size 432x288 with 1 Axes>"
            ]
          },
          "metadata": {
            "tags": [],
            "needs_background": "light"
          }
        }
      ]
    },
    {
      "cell_type": "markdown",
      "metadata": {
        "id": "PSluBcL3sJTR"
      },
      "source": [
        "Bairros com maior Renda Média"
      ]
    },
    {
      "cell_type": "code",
      "metadata": {
        "colab": {
          "base_uri": "https://localhost:8080/",
          "height": 365
        },
        "id": "CFuwitlyrdxy",
        "outputId": "ae491261-689a-49ed-e47a-6d10d74bf3c9"
      },
      "source": [
        "dtop = data.nlargest(5, 'rendaMedia')\n",
        "# a simple line plot\n",
        "dtop.plot(kind='bar',x='nome',y='rendaMedia')"
      ],
      "execution_count": null,
      "outputs": [
        {
          "output_type": "execute_result",
          "data": {
            "text/plain": [
              "<matplotlib.axes._subplots.AxesSubplot at 0x7efe096e5cd0>"
            ]
          },
          "metadata": {
            "tags": []
          },
          "execution_count": 63
        },
        {
          "output_type": "display_data",
          "data": {
            "image/png": "[encoded data removed]",
            "text/plain": [
              "<Figure size 432x288 with 1 Axes>"
            ]
          },
          "metadata": {
            "tags": [],
            "needs_background": "light"
          }
        }
      ]
    },
    {
      "cell_type": "markdown",
      "metadata": {
        "id": "Qa9vVkSlc7p-"
      },
      "source": [
        "# Tratamento de Dados"
      ]
    },
    {
      "cell_type": "code",
      "metadata": {
        "id": "zUFPI2_RTsxd"
      },
      "source": [
        "from geopy.exc import GeocoderTimedOut\n",
        "from geopy.geocoders import Nominatim\n",
        "   \n",
        "longitude = []\n",
        "latitude = []\n",
        "   \n",
        "\n",
        "def findGeocode(nome):\n",
        "       \n",
        "\n",
        "    try:\n",
        "          \n",
        "\n",
        "        geolocator = Nominatim(user_agent=\"your_app_name\")\n",
        "          \n",
        "        return geolocator.geocode(nome)\n",
        "      \n",
        "    except GeocoderTimedOut:\n",
        "          \n",
        "        return findGeocode(nome)    \n",
        "  \n",
        "\n",
        "for i in (data[\"nome\"]):\n",
        "      \n",
        "    if findGeocode(i) != None:\n",
        "           \n",
        "        loc = findGeocode(i)\n",
        "          \n",
        "\n",
        "        latitude.append(loc.latitude)\n",
        "        longitude.append(loc.longitude)\n",
        "       \n",
        "\n",
        "    else:\n",
        "        latitude.append(np.nan)\n",
        "        longitude.append(np.nan)"
      ],
      "execution_count": null,
      "outputs": []
    },
    {
      "cell_type": "code",
      "metadata": {
        "colab": {
          "base_uri": "https://localhost:8080/",
          "height": 657
        },
        "id": "PRnUbt4_ZT2w",
        "outputId": "dd1b45dd-631b-4d85-de84-3f6863501966"
      },
      "source": [
        "data[\"Latitude\"] = latitude\n",
        "data[\"Longitude\"] = longitude\n",
        "\n",
        "data"
      ],
      "execution_count": null,
      "outputs": [
        {
          "output_type": "execute_result",
          "data": {
            "text/html": [
              "<div>\n",
              "<style scoped>\n",
              "    .dataframe tbody tr th:only-of-type {\n",
              "        vertical-align: middle;\n",
              "    }\n",
              "\n",
              "    .dataframe tbody tr th {\n",
              "        vertical-align: top;\n",
              "    }\n",
              "\n",
              "    .dataframe thead th {\n",
              "        text-align: right;\n",
              "    }\n",
              "</style>\n",
              "<table border=\"1\" class=\"dataframe\">\n",
              "  <thead>\n",
              "    <tr style=\"text-align: right;\">\n",
              "      <th></th>\n",
              "      <th>nome</th>\n",
              "      <th>cidade</th>\n",
              "      <th>estado</th>\n",
              "      <th>população</th>\n",
              "      <th>popAte9</th>\n",
              "      <th>popDe10a14</th>\n",
              "      <th>popDe15a19</th>\n",
              "      <th>popDe20a24</th>\n",
              "      <th>popDe25a34</th>\n",
              "      <th>popDe35a49</th>\n",
              "      <th>popDe50a59</th>\n",
              "      <th>popMaisDe60</th>\n",
              "      <th>domiciliosA1</th>\n",
              "      <th>domiciliosA2</th>\n",
              "      <th>domiciliosB1</th>\n",
              "      <th>domiciliosB2</th>\n",
              "      <th>domiciliosC1</th>\n",
              "      <th>domiciliosC2</th>\n",
              "      <th>domiciliosD</th>\n",
              "      <th>domiciliosE</th>\n",
              "      <th>rendaMedia</th>\n",
              "      <th>faturamento</th>\n",
              "      <th>Latitude</th>\n",
              "      <th>Longitude</th>\n",
              "    </tr>\n",
              "    <tr>\n",
              "      <th>codigo</th>\n",
              "      <th></th>\n",
              "      <th></th>\n",
              "      <th></th>\n",
              "      <th></th>\n",
              "      <th></th>\n",
              "      <th></th>\n",
              "      <th></th>\n",
              "      <th></th>\n",
              "      <th></th>\n",
              "      <th></th>\n",
              "      <th></th>\n",
              "      <th></th>\n",
              "      <th></th>\n",
              "      <th></th>\n",
              "      <th></th>\n",
              "      <th></th>\n",
              "      <th></th>\n",
              "      <th></th>\n",
              "      <th></th>\n",
              "      <th></th>\n",
              "      <th></th>\n",
              "      <th></th>\n",
              "      <th></th>\n",
              "      <th></th>\n",
              "    </tr>\n",
              "  </thead>\n",
              "  <tbody>\n",
              "    <tr>\n",
              "      <th>3304557060</th>\n",
              "      <td>Abolição</td>\n",
              "      <td>Rio de Janeiro</td>\n",
              "      <td>RJ</td>\n",
              "      <td>11676</td>\n",
              "      <td>1027</td>\n",
              "      <td>483</td>\n",
              "      <td>688</td>\n",
              "      <td>800</td>\n",
              "      <td>1675</td>\n",
              "      <td>2300</td>\n",
              "      <td>1784</td>\n",
              "      <td>2919</td>\n",
              "      <td>0</td>\n",
              "      <td>145</td>\n",
              "      <td>715</td>\n",
              "      <td>1242</td>\n",
              "      <td>1093</td>\n",
              "      <td>758</td>\n",
              "      <td>92</td>\n",
              "      <td>304</td>\n",
              "      <td>2501.0</td>\n",
              "      <td>932515.0</td>\n",
              "      <td>-22.886161</td>\n",
              "      <td>-43.299846</td>\n",
              "    </tr>\n",
              "    <tr>\n",
              "      <th>3304557138</th>\n",
              "      <td>Acari</td>\n",
              "      <td>Rio de Janeiro</td>\n",
              "      <td>RJ</td>\n",
              "      <td>27564</td>\n",
              "      <td>5131</td>\n",
              "      <td>2188</td>\n",
              "      <td>2697</td>\n",
              "      <td>2630</td>\n",
              "      <td>4810</td>\n",
              "      <td>5308</td>\n",
              "      <td>2403</td>\n",
              "      <td>2397</td>\n",
              "      <td>0</td>\n",
              "      <td>0</td>\n",
              "      <td>82</td>\n",
              "      <td>506</td>\n",
              "      <td>2040</td>\n",
              "      <td>2490</td>\n",
              "      <td>827</td>\n",
              "      <td>2506</td>\n",
              "      <td>931.0</td>\n",
              "      <td>588833.0</td>\n",
              "      <td>-22.822153</td>\n",
              "      <td>-43.340674</td>\n",
              "    </tr>\n",
              "    <tr>\n",
              "      <th>3304557057</th>\n",
              "      <td>Água Santa</td>\n",
              "      <td>Rio de Janeiro</td>\n",
              "      <td>RJ</td>\n",
              "      <td>9003</td>\n",
              "      <td>883</td>\n",
              "      <td>399</td>\n",
              "      <td>597</td>\n",
              "      <td>762</td>\n",
              "      <td>1755</td>\n",
              "      <td>2076</td>\n",
              "      <td>1112</td>\n",
              "      <td>1419</td>\n",
              "      <td>0</td>\n",
              "      <td>96</td>\n",
              "      <td>404</td>\n",
              "      <td>652</td>\n",
              "      <td>644</td>\n",
              "      <td>522</td>\n",
              "      <td>77</td>\n",
              "      <td>254</td>\n",
              "      <td>2391.0</td>\n",
              "      <td>874200.0</td>\n",
              "      <td>-28.177530</td>\n",
              "      <td>-52.036030</td>\n",
              "    </tr>\n",
              "    <tr>\n",
              "      <th>3304557031</th>\n",
              "      <td>Alto Da Boa Vista</td>\n",
              "      <td>Rio de Janeiro</td>\n",
              "      <td>RJ</td>\n",
              "      <td>9606</td>\n",
              "      <td>1072</td>\n",
              "      <td>538</td>\n",
              "      <td>660</td>\n",
              "      <td>685</td>\n",
              "      <td>1317</td>\n",
              "      <td>2007</td>\n",
              "      <td>1341</td>\n",
              "      <td>1986</td>\n",
              "      <td>114</td>\n",
              "      <td>178</td>\n",
              "      <td>393</td>\n",
              "      <td>517</td>\n",
              "      <td>945</td>\n",
              "      <td>584</td>\n",
              "      <td>137</td>\n",
              "      <td>286</td>\n",
              "      <td>3727.0</td>\n",
              "      <td>912226.0</td>\n",
              "      <td>-23.641625</td>\n",
              "      <td>-46.699434</td>\n",
              "    </tr>\n",
              "    <tr>\n",
              "      <th>3304557125</th>\n",
              "      <td>Anchieta</td>\n",
              "      <td>Rio de Janeiro</td>\n",
              "      <td>RJ</td>\n",
              "      <td>57222</td>\n",
              "      <td>7677</td>\n",
              "      <td>3774</td>\n",
              "      <td>4892</td>\n",
              "      <td>4600</td>\n",
              "      <td>8660</td>\n",
              "      <td>12272</td>\n",
              "      <td>7157</td>\n",
              "      <td>8190</td>\n",
              "      <td>0</td>\n",
              "      <td>0</td>\n",
              "      <td>1089</td>\n",
              "      <td>2821</td>\n",
              "      <td>5110</td>\n",
              "      <td>5422</td>\n",
              "      <td>1073</td>\n",
              "      <td>3261</td>\n",
              "      <td>1380.0</td>\n",
              "      <td>553020.0</td>\n",
              "      <td>-20.805767</td>\n",
              "      <td>-40.645456</td>\n",
              "    </tr>\n",
              "    <tr>\n",
              "      <th>...</th>\n",
              "      <td>...</td>\n",
              "      <td>...</td>\n",
              "      <td>...</td>\n",
              "      <td>...</td>\n",
              "      <td>...</td>\n",
              "      <td>...</td>\n",
              "      <td>...</td>\n",
              "      <td>...</td>\n",
              "      <td>...</td>\n",
              "      <td>...</td>\n",
              "      <td>...</td>\n",
              "      <td>...</td>\n",
              "      <td>...</td>\n",
              "      <td>...</td>\n",
              "      <td>...</td>\n",
              "      <td>...</td>\n",
              "      <td>...</td>\n",
              "      <td>...</td>\n",
              "      <td>...</td>\n",
              "      <td>...</td>\n",
              "      <td>...</td>\n",
              "      <td>...</td>\n",
              "      <td>...</td>\n",
              "      <td>...</td>\n",
              "    </tr>\n",
              "    <tr>\n",
              "      <th>3304557062</th>\n",
              "      <td>Vila Kosmos</td>\n",
              "      <td>Rio de Janeiro</td>\n",
              "      <td>RJ</td>\n",
              "      <td>18791</td>\n",
              "      <td>1802</td>\n",
              "      <td>921</td>\n",
              "      <td>1442</td>\n",
              "      <td>1462</td>\n",
              "      <td>2500</td>\n",
              "      <td>3944</td>\n",
              "      <td>2920</td>\n",
              "      <td>3800</td>\n",
              "      <td>0</td>\n",
              "      <td>259</td>\n",
              "      <td>774</td>\n",
              "      <td>1363</td>\n",
              "      <td>1923</td>\n",
              "      <td>1379</td>\n",
              "      <td>190</td>\n",
              "      <td>405</td>\n",
              "      <td>2316.0</td>\n",
              "      <td>901446.0</td>\n",
              "      <td>-22.853597</td>\n",
              "      <td>-43.303202</td>\n",
              "    </tr>\n",
              "    <tr>\n",
              "      <th>3304557093</th>\n",
              "      <td>Vila Militar</td>\n",
              "      <td>Rio de Janeiro</td>\n",
              "      <td>RJ</td>\n",
              "      <td>13556</td>\n",
              "      <td>1888</td>\n",
              "      <td>787</td>\n",
              "      <td>1042</td>\n",
              "      <td>982</td>\n",
              "      <td>2542</td>\n",
              "      <td>2908</td>\n",
              "      <td>1528</td>\n",
              "      <td>1879</td>\n",
              "      <td>0</td>\n",
              "      <td>219</td>\n",
              "      <td>714</td>\n",
              "      <td>828</td>\n",
              "      <td>1051</td>\n",
              "      <td>1012</td>\n",
              "      <td>116</td>\n",
              "      <td>465</td>\n",
              "      <td>2416.0</td>\n",
              "      <td>849731.0</td>\n",
              "      <td>-22.860348</td>\n",
              "      <td>-43.402893</td>\n",
              "    </tr>\n",
              "    <tr>\n",
              "      <th>3304557091</th>\n",
              "      <td>Vila Valqueire</td>\n",
              "      <td>Rio de Janeiro</td>\n",
              "      <td>RJ</td>\n",
              "      <td>33190</td>\n",
              "      <td>3166</td>\n",
              "      <td>1619</td>\n",
              "      <td>2255</td>\n",
              "      <td>2326</td>\n",
              "      <td>4752</td>\n",
              "      <td>7183</td>\n",
              "      <td>4950</td>\n",
              "      <td>6939</td>\n",
              "      <td>0</td>\n",
              "      <td>906</td>\n",
              "      <td>2866</td>\n",
              "      <td>2241</td>\n",
              "      <td>2982</td>\n",
              "      <td>1200</td>\n",
              "      <td>360</td>\n",
              "      <td>772</td>\n",
              "      <td>3189.0</td>\n",
              "      <td>1127042.0</td>\n",
              "      <td>-22.888609</td>\n",
              "      <td>-43.365776</td>\n",
              "    </tr>\n",
              "    <tr>\n",
              "      <th>3304557065</th>\n",
              "      <td>Vista Alegre</td>\n",
              "      <td>Rio de Janeiro</td>\n",
              "      <td>RJ</td>\n",
              "      <td>8867</td>\n",
              "      <td>724</td>\n",
              "      <td>387</td>\n",
              "      <td>580</td>\n",
              "      <td>565</td>\n",
              "      <td>1205</td>\n",
              "      <td>1812</td>\n",
              "      <td>1474</td>\n",
              "      <td>2120</td>\n",
              "      <td>0</td>\n",
              "      <td>87</td>\n",
              "      <td>556</td>\n",
              "      <td>836</td>\n",
              "      <td>940</td>\n",
              "      <td>484</td>\n",
              "      <td>75</td>\n",
              "      <td>214</td>\n",
              "      <td>2418.0</td>\n",
              "      <td>921875.0</td>\n",
              "      <td>-27.368619</td>\n",
              "      <td>-53.491876</td>\n",
              "    </tr>\n",
              "    <tr>\n",
              "      <th>3304557110</th>\n",
              "      <td>Zumbi</td>\n",
              "      <td>Rio de Janeiro</td>\n",
              "      <td>RJ</td>\n",
              "      <td>2072</td>\n",
              "      <td>175</td>\n",
              "      <td>74</td>\n",
              "      <td>120</td>\n",
              "      <td>121</td>\n",
              "      <td>318</td>\n",
              "      <td>417</td>\n",
              "      <td>314</td>\n",
              "      <td>533</td>\n",
              "      <td>0</td>\n",
              "      <td>89</td>\n",
              "      <td>234</td>\n",
              "      <td>177</td>\n",
              "      <td>147</td>\n",
              "      <td>72</td>\n",
              "      <td>10</td>\n",
              "      <td>47</td>\n",
              "      <td>3791.0</td>\n",
              "      <td>919451.0</td>\n",
              "      <td>-22.821278</td>\n",
              "      <td>-43.175861</td>\n",
              "    </tr>\n",
              "  </tbody>\n",
              "</table>\n",
              "<p>160 rows × 24 columns</p>\n",
              "</div>"
            ],
            "text/plain": [
              "                         nome          cidade  ...   Latitude  Longitude\n",
              "codigo                                         ...                      \n",
              "3304557060           Abolição  Rio de Janeiro  ... -22.886161 -43.299846\n",
              "3304557138              Acari  Rio de Janeiro  ... -22.822153 -43.340674\n",
              "3304557057         Água Santa  Rio de Janeiro  ... -28.177530 -52.036030\n",
              "3304557031  Alto Da Boa Vista  Rio de Janeiro  ... -23.641625 -46.699434\n",
              "3304557125           Anchieta  Rio de Janeiro  ... -20.805767 -40.645456\n",
              "...                       ...             ...  ...        ...        ...\n",
              "3304557062        Vila Kosmos  Rio de Janeiro  ... -22.853597 -43.303202\n",
              "3304557093       Vila Militar  Rio de Janeiro  ... -22.860348 -43.402893\n",
              "3304557091     Vila Valqueire  Rio de Janeiro  ... -22.888609 -43.365776\n",
              "3304557065       Vista Alegre  Rio de Janeiro  ... -27.368619 -53.491876\n",
              "3304557110              Zumbi  Rio de Janeiro  ... -22.821278 -43.175861\n",
              "\n",
              "[160 rows x 24 columns]"
            ]
          },
          "metadata": {
            "tags": []
          },
          "execution_count": 21
        }
      ]
    },
    {
      "cell_type": "code",
      "metadata": {
        "id": "FeZi-PbgaKjw"
      },
      "source": [
        "data.to_csv('DesafioEstagioMachineLearningLL.csv')"
      ],
      "execution_count": null,
      "outputs": []
    },
    {
      "cell_type": "code",
      "metadata": {
        "id": "sj8RWHU6jP-N"
      },
      "source": [
        "# DataFrame tratado que contém Latitude e Longitude dos bairros\n",
        "datall = pd.read_csv('/content/drive/MyDrive/DesafioEstagioMachineLearningLL.csv', index_col=0)"
      ],
      "execution_count": null,
      "outputs": []
    },
    {
      "cell_type": "code",
      "metadata": {
        "colab": {
          "base_uri": "https://localhost:8080/",
          "height": 357
        },
        "id": "ztBWf6eqjTaa",
        "outputId": "4039da18-98dc-44a3-d149-96a3639d77bf"
      },
      "source": [
        "datall.head()"
      ],
      "execution_count": null,
      "outputs": [
        {
          "output_type": "execute_result",
          "data": {
            "text/html": [
              "<div>\n",
              "<style scoped>\n",
              "    .dataframe tbody tr th:only-of-type {\n",
              "        vertical-align: middle;\n",
              "    }\n",
              "\n",
              "    .dataframe tbody tr th {\n",
              "        vertical-align: top;\n",
              "    }\n",
              "\n",
              "    .dataframe thead th {\n",
              "        text-align: right;\n",
              "    }\n",
              "</style>\n",
              "<table border=\"1\" class=\"dataframe\">\n",
              "  <thead>\n",
              "    <tr style=\"text-align: right;\">\n",
              "      <th></th>\n",
              "      <th>nome</th>\n",
              "      <th>cidade</th>\n",
              "      <th>estado</th>\n",
              "      <th>população</th>\n",
              "      <th>popAte9</th>\n",
              "      <th>popDe10a14</th>\n",
              "      <th>popDe15a19</th>\n",
              "      <th>popDe20a24</th>\n",
              "      <th>popDe25a34</th>\n",
              "      <th>popDe35a49</th>\n",
              "      <th>popDe50a59</th>\n",
              "      <th>popMaisDe60</th>\n",
              "      <th>domiciliosA1</th>\n",
              "      <th>domiciliosA2</th>\n",
              "      <th>domiciliosB1</th>\n",
              "      <th>domiciliosB2</th>\n",
              "      <th>domiciliosC1</th>\n",
              "      <th>domiciliosC2</th>\n",
              "      <th>domiciliosD</th>\n",
              "      <th>domiciliosE</th>\n",
              "      <th>rendaMedia</th>\n",
              "      <th>faturamento</th>\n",
              "      <th>Latitude</th>\n",
              "      <th>Longitude</th>\n",
              "    </tr>\n",
              "    <tr>\n",
              "      <th>codigo</th>\n",
              "      <th></th>\n",
              "      <th></th>\n",
              "      <th></th>\n",
              "      <th></th>\n",
              "      <th></th>\n",
              "      <th></th>\n",
              "      <th></th>\n",
              "      <th></th>\n",
              "      <th></th>\n",
              "      <th></th>\n",
              "      <th></th>\n",
              "      <th></th>\n",
              "      <th></th>\n",
              "      <th></th>\n",
              "      <th></th>\n",
              "      <th></th>\n",
              "      <th></th>\n",
              "      <th></th>\n",
              "      <th></th>\n",
              "      <th></th>\n",
              "      <th></th>\n",
              "      <th></th>\n",
              "      <th></th>\n",
              "      <th></th>\n",
              "    </tr>\n",
              "  </thead>\n",
              "  <tbody>\n",
              "    <tr>\n",
              "      <th>3304557060</th>\n",
              "      <td>Abolição</td>\n",
              "      <td>Rio de Janeiro</td>\n",
              "      <td>RJ</td>\n",
              "      <td>11676</td>\n",
              "      <td>1027</td>\n",
              "      <td>483</td>\n",
              "      <td>688</td>\n",
              "      <td>800</td>\n",
              "      <td>1675</td>\n",
              "      <td>2300</td>\n",
              "      <td>1784</td>\n",
              "      <td>2919</td>\n",
              "      <td>0</td>\n",
              "      <td>145</td>\n",
              "      <td>715</td>\n",
              "      <td>1242</td>\n",
              "      <td>1093</td>\n",
              "      <td>758</td>\n",
              "      <td>92</td>\n",
              "      <td>304</td>\n",
              "      <td>2501.0</td>\n",
              "      <td>932515.0</td>\n",
              "      <td>-22.886161</td>\n",
              "      <td>-43.299846</td>\n",
              "    </tr>\n",
              "    <tr>\n",
              "      <th>3304557138</th>\n",
              "      <td>Acari</td>\n",
              "      <td>Rio de Janeiro</td>\n",
              "      <td>RJ</td>\n",
              "      <td>27564</td>\n",
              "      <td>5131</td>\n",
              "      <td>2188</td>\n",
              "      <td>2697</td>\n",
              "      <td>2630</td>\n",
              "      <td>4810</td>\n",
              "      <td>5308</td>\n",
              "      <td>2403</td>\n",
              "      <td>2397</td>\n",
              "      <td>0</td>\n",
              "      <td>0</td>\n",
              "      <td>82</td>\n",
              "      <td>506</td>\n",
              "      <td>2040</td>\n",
              "      <td>2490</td>\n",
              "      <td>827</td>\n",
              "      <td>2506</td>\n",
              "      <td>931.0</td>\n",
              "      <td>588833.0</td>\n",
              "      <td>-22.822153</td>\n",
              "      <td>-43.340674</td>\n",
              "    </tr>\n",
              "    <tr>\n",
              "      <th>3304557057</th>\n",
              "      <td>Água Santa</td>\n",
              "      <td>Rio de Janeiro</td>\n",
              "      <td>RJ</td>\n",
              "      <td>9003</td>\n",
              "      <td>883</td>\n",
              "      <td>399</td>\n",
              "      <td>597</td>\n",
              "      <td>762</td>\n",
              "      <td>1755</td>\n",
              "      <td>2076</td>\n",
              "      <td>1112</td>\n",
              "      <td>1419</td>\n",
              "      <td>0</td>\n",
              "      <td>96</td>\n",
              "      <td>404</td>\n",
              "      <td>652</td>\n",
              "      <td>644</td>\n",
              "      <td>522</td>\n",
              "      <td>77</td>\n",
              "      <td>254</td>\n",
              "      <td>2391.0</td>\n",
              "      <td>874200.0</td>\n",
              "      <td>-28.177530</td>\n",
              "      <td>-52.036030</td>\n",
              "    </tr>\n",
              "    <tr>\n",
              "      <th>3304557031</th>\n",
              "      <td>Alto Da Boa Vista</td>\n",
              "      <td>Rio de Janeiro</td>\n",
              "      <td>RJ</td>\n",
              "      <td>9606</td>\n",
              "      <td>1072</td>\n",
              "      <td>538</td>\n",
              "      <td>660</td>\n",
              "      <td>685</td>\n",
              "      <td>1317</td>\n",
              "      <td>2007</td>\n",
              "      <td>1341</td>\n",
              "      <td>1986</td>\n",
              "      <td>114</td>\n",
              "      <td>178</td>\n",
              "      <td>393</td>\n",
              "      <td>517</td>\n",
              "      <td>945</td>\n",
              "      <td>584</td>\n",
              "      <td>137</td>\n",
              "      <td>286</td>\n",
              "      <td>3727.0</td>\n",
              "      <td>912226.0</td>\n",
              "      <td>-23.641625</td>\n",
              "      <td>-46.699434</td>\n",
              "    </tr>\n",
              "    <tr>\n",
              "      <th>3304557125</th>\n",
              "      <td>Anchieta</td>\n",
              "      <td>Rio de Janeiro</td>\n",
              "      <td>RJ</td>\n",
              "      <td>57222</td>\n",
              "      <td>7677</td>\n",
              "      <td>3774</td>\n",
              "      <td>4892</td>\n",
              "      <td>4600</td>\n",
              "      <td>8660</td>\n",
              "      <td>12272</td>\n",
              "      <td>7157</td>\n",
              "      <td>8190</td>\n",
              "      <td>0</td>\n",
              "      <td>0</td>\n",
              "      <td>1089</td>\n",
              "      <td>2821</td>\n",
              "      <td>5110</td>\n",
              "      <td>5422</td>\n",
              "      <td>1073</td>\n",
              "      <td>3261</td>\n",
              "      <td>1380.0</td>\n",
              "      <td>553020.0</td>\n",
              "      <td>-20.805767</td>\n",
              "      <td>-40.645456</td>\n",
              "    </tr>\n",
              "  </tbody>\n",
              "</table>\n",
              "</div>"
            ],
            "text/plain": [
              "                         nome          cidade  ...   Latitude  Longitude\n",
              "codigo                                         ...                      \n",
              "3304557060           Abolição  Rio de Janeiro  ... -22.886161 -43.299846\n",
              "3304557138              Acari  Rio de Janeiro  ... -22.822153 -43.340674\n",
              "3304557057         Água Santa  Rio de Janeiro  ... -28.177530 -52.036030\n",
              "3304557031  Alto Da Boa Vista  Rio de Janeiro  ... -23.641625 -46.699434\n",
              "3304557125           Anchieta  Rio de Janeiro  ... -20.805767 -40.645456\n",
              "\n",
              "[5 rows x 24 columns]"
            ]
          },
          "metadata": {
            "tags": []
          },
          "execution_count": 18
        }
      ]
    },
    {
      "cell_type": "code",
      "metadata": {
        "id": "CqxCIa7sVP3n"
      },
      "source": [
        "pip install geopy"
      ],
      "execution_count": null,
      "outputs": []
    },
    {
      "cell_type": "markdown",
      "metadata": {
        "id": "qoZA0dUOsQcs"
      },
      "source": [
        "Mapa de densidade Faturamento por Bairro"
      ]
    },
    {
      "cell_type": "code",
      "metadata": {
        "id": "_psQy6ns33so"
      },
      "source": [
        "import plotly.express as px"
      ],
      "execution_count": null,
      "outputs": []
    },
    {
      "cell_type": "code",
      "metadata": {
        "colab": {
          "base_uri": "https://localhost:8080/",
          "height": 542
        },
        "id": "EWtgReH43597",
        "outputId": "c8f8db14-b4b7-4e33-b6e9-296e614fcba6"
      },
      "source": [
        "fig = px.density_mapbox(datall, lat='Latitude', lon='Longitude', z='faturamento', hover_name='nome', radius=10,\n",
        "                        center=dict(lat=-22.9035, lon=-43.2096), zoom=10,\n",
        "                        mapbox_style=\"stamen-terrain\")\n",
        "fig.show()"
      ],
      "execution_count": null,
      "outputs": [
        {
          "output_type": "display_data",
          "data": {
            "text/html": [
              "<html>\n",
              "<head><meta charset=\"utf-8\" /></head>\n",
              "<body>\n",
              "    <div>\n",
              "            <script src=\"https://cdnjs.cloudflare.com/ajax/libs/mathjax/2.7.5/MathJax.js?config=TeX-AMS-MML_SVG\"></script><script type=\"text/javascript\">if (window.MathJax) {MathJax.Hub.Config({SVG: {font: \"STIX-Web\"}});}</script>\n",
              "                <script type=\"text/javascript\">window.PlotlyConfig = {MathJaxConfig: 'local'};</script>\n",
              "        <script src=\"https://cdn.plot.ly/plotly-latest.min.js\"></script>    \n",
              "            <div id=\"27a69e52-3259-49d1-bf74-4199e52b4ed3\" class=\"plotly-graph-div\" style=\"height:525px; width:100%;\"></div>\n",
              "            <script type=\"text/javascript\">\n",
              "                \n",
              "                    window.PLOTLYENV=window.PLOTLYENV || {};\n",
              "                    \n",
              "                if (document.getElementById(\"27a69e52-3259-49d1-bf74-4199e52b4ed3\")) {\n",
              "                    Plotly.newPlot(\n",
              "                        '27a69e52-3259-49d1-bf74-4199e52b4ed3',\n",
              "                        [{\"coloraxis\": \"coloraxis\", \"hoverlabel\": {\"namelength\": 0}, \"hovertemplate\": \"<b>%{hovertext}</b><br><br>faturamento=%{z}<br>Latitude=%{lat}<br>Longitude=%{lon}\", \"hovertext\": [\"Aboli\\u00e7\\u00e3o\", \"Acari\", \"\\u00c1gua Santa\", \"Alto Da Boa Vista\", \"Anchieta\", \"Andara\\u00ed\", \"Anil\", \"Banc\\u00e1rios\", \"Bangu\", \"Barra Da Tijuca\", \"Barra De Guaratiba\", \"Barros Filho\", \"Benfica\", \"Bento Ribeiro\", \"Bonsucesso\", \"Botafogo\", \"Br\\u00e1s De Pina\", \"Cachambi\", \"Cacuia\", \"Caju\", \"Camorim\", \"Campinho\", \"Campo Dos Afonsos\", \"Campo Grande\", \"Cascadura\", \"Catete\", \"Catumbi\", \"Cavalcanti\", \"Centro\", \"Cidade De Deus\", \"Cidade Nova\", \"Cidade Universit\\u00e1ria\", \"Cocot\\u00e1\", \"Coelho Neto\", \"Col\\u00e9gio\", \"Complexo Do Alem\\u00e3o\", \"Copacabana\", \"Cordovil\", \"Cosme Velho\", \"Cosmos\", \"Costa Barros\", \"Curicica\", \"Del Castilho\", \"Deodoro\", \"Encantado\", \"Engenheiro Leal\", \"Engenho Da Rainha\", \"Engenho De Dentro\", \"Engenho Novo\", \"Est\\u00e1cio\", \"Flamengo\", \"Freguesia (Ilha Do Governador)\", \"Freguesia (Jacarepagu\\u00e1)\", \"Gale\\u00e3o\", \"Gamboa\", \"Gard\\u00eania Azul\", \"G\\u00e1vea\", \"Gericin\\u00f3\", \"Gl\\u00f3ria\", \"Graja\\u00fa\", \"Grumari\", \"Guadalupe\", \"Guaratiba\", \"Higien\\u00f3polis\", \"Hon\\u00f3rio Gurgel\", \"Humait\\u00e1\", \"Inha\\u00fama\", \"Inhoa\\u00edba\", \"Ipanema\", \"Iraj\\u00e1\", \"Itanhang\\u00e1\", \"Jacar\\u00e9\", \"Jacarepagu\\u00e1\", \"Jacarezinho\", \"Jardim Am\\u00e9rica\", \"Jardim Bot\\u00e2nico\", \"Jardim Carioca\", \"Jardim Guanabara\", \"Jardim Sulacap\", \"Jo\\u00e1\", \"Lagoa\", \"Laranjeiras\", \"Leblon\", \"Leme\", \"Lins De Vasconcelos\", \"Madureira\", \"Magalh\\u00e3es Bastos\", \"Mangueira\", \"Manguinhos\", \"Maracan\\u00e3\", \"Mar\\u00e9\", \"Marechal Hermes\", \"Maria Da Gra\\u00e7a\", \"M\\u00e9ier\", \"Moner\\u00f3\", \"Olaria\", \"Oswaldo Cruz\", \"Paci\\u00eancia\", \"Padre Miguel\", \"Paquet\\u00e1\", \"Parada De Lucas\", \"Parque Anchieta\", \"Parque Columbia\", \"Pavuna\", \"Pechincha\", \"Pedra De Guaratiba\", \"Penha\", \"Penha Circular\", \"Piedade\", \"Pilares\", \"Pitangueiras\", \"Portuguesa\", \"Pra\\u00e7a Da Bandeira\", \"Pra\\u00e7a Seca\", \"Praia Da Bandeira\", \"Quintino Bocai\\u00fava\", \"Ramos\", \"Realengo\", \"Recreio Dos Bandeirantes\", \"Riachuelo\", \"Ribeira\", \"Ricardo De Albuquerque\", \"Rio Comprido\", \"Rocha\", \"Rocha Miranda\", \"Rocinha\", \"Sampaio\", \"Santa Cruz\", \"Santa Teresa\", \"Sant\\u00edssimo\", \"Santo Cristo\", \"S\\u00e3o Conrado\", \"S\\u00e3o Crist\\u00f3v\\u00e3o\", \"S\\u00e3o Francisco Xavier\", \"Sa\\u00fade\", \"Senador Camar\\u00e1\", \"Senador Vasconcelos\", \"Sepetiba\", \"Tanque\", \"Taquara\", \"Tau\\u00e1\", \"Tijuca\", \"Todos Os Santos\", \"Tom\\u00e1s Coelho\", \"Turia\\u00e7u\", \"Urca\", \"Vargem Grande\", \"Vargem Pequena\", \"Vasco Da Gama\", \"Vaz Lobo\", \"Vicente De Carvalho\", \"Vidigal\", \"Vig\\u00e1rio Geral\", \"Vila Da Penha\", \"Vila Isabel\", \"Vila Kosmos\", \"Vila Militar\", \"Vila Valqueire\", \"Vista Alegre\", \"Zumbi\"], \"lat\": [-22.8861614, -22.8221528, -28.1775297, -23.641625100000002, -20.8057672, -12.8059674, -22.9558133, -22.7917588, -22.8753053, -22.999740399999997, -23.0360036, -22.834885699999997, 38.73802695000001, -22.8666607, -22.865931699999997, -22.94884465, -22.831888, -22.8897634, -22.8217028, -22.8803063, -22.9711394, -22.8852187, -22.8795186, -20.464017300000002, -22.8841816, -22.926919899999998, -22.919454199999997, -22.8705266, 47.5490251, -22.94803, -22.9100508, -23.56096405, -22.805004699999998, -4.2535154, -22.83979, -22.860609699999998, -22.9719642, -22.8194378, -22.9415143, -22.9078051, -22.8246995, -22.9519909, -22.8795618, -22.851201, -29.239271600000002, -22.8743923, -22.8626496, -22.9026591, -22.9090942, -22.916626500000003, -22.9339841, 37.7452573, -22.9408899, -22.8075065, -22.897749100000002, -22.9582866, -22.9814243, -22.84179015, -9.3429057, -5.815403400000001, -23.0470388, 16.230510250000002, -22.990583899999997, -22.873998999999998, -22.846575100000003, -27.5660564, -19.490277, -22.9131775, -22.9839557, -22.8351129, -12.2323038, -22.8931174, -22.9665038, -23.159115, -22.810005, -22.968384550000003, -22.805249300000003, -22.8128362, -22.8956799, -23.0077797, 37.13258125, -10.8040231, -22.983556, 49.838333299999995, -22.9140512, -22.871658, -22.8725117, -7.707512299999999, -22.8796755, -22.91216195, 54.5562536, -22.8599658, -22.8830403, -22.9026425, -22.7964947, -21.860719399999997, -21.7962773, -22.8987, -22.8788135, -7.1041208, -22.816702300000003, -22.8351687, -22.8138907, -22.8121927, -22.928988, -22.9983546, -26.775418, -22.8326425, -23.707409600000002, -22.8790904, -21.013203, 8.96739065, -22.9112162, -22.8992621, -22.8104077, -22.8955889, 43.5215245, -22.877274300000003, -23.018515100000002, -5.8121386, 42.580562799999996, -22.8380924, -22.9279449, 46.6705431, -22.850347199999998, -22.9885204, -5.354233, 28.469648, -22.921399100000002, -22.8751928, -27.826259000000004, -22.9913592, -11.0136465, 38.7105032, -10.9414907, -22.888752, -22.8953684, -22.9679803, 28.356272999999998, -29.6465318, -6.0031372, -22.9332164, -12.8640287, -22.8676979, -1.6710652, 46.548852200000006, -3.5443611000000006, -22.9818187, 15.398403, -22.858972100000003, -23.952134, -22.995209399999997, -22.809533300000002, -22.8435065, -22.9152219, -22.853597, -22.860348000000002, -22.8886093, -27.368619, -22.821278399999997], \"lon\": [-43.299845700000006, -43.340674299999996, -52.0360304, -46.6994344, -40.6454564, -41.3322919, -43.338412299999995, -43.180966, -43.4648805, -43.3659929, -43.5521395, -43.3631878, -9.195298604626883, -43.3608367, -43.253318, -43.179829096252966, -43.2977309, -43.2744953, -43.1837917, -43.221493599999995, -43.431183600000004, -43.347738, -43.3803636, -54.616294700000005, -43.3283969, -43.180218599999996, -43.19708060000001, -43.3165261, 1.7324061999999998, -43.362903, -43.201756, -46.72770807289966, -43.180546299999996, -43.0149321, -43.3357623, -43.2737506, -43.1843432, -43.2915908, -43.2006244, -43.6144915, -43.369839500000005, -43.3872901, -43.272420200000006, -43.3870315, -51.874481700000004, -43.3255315, -43.2937874, -43.296775700000005, -43.2678381, -43.20363, -43.1745744, -25.589776, -43.342256400000004, -43.235521500000004, -43.1929041, -43.3512241, -43.2383245, -43.47737267671482, -38.255254799999996, -46.1361454, -43.5334787, -61.687126021388465, -43.584922999999996, -43.2613682, -43.3561294, -53.9719817, -44.389165999999996, -43.5932975, -43.202216299999996, -43.3233619, -56.641825100000005, -43.257199799999995, -43.371319299999996, -49.973889, -43.323212, -43.22869449858106, -43.193194899999995, -43.2007792, -43.3929967, -43.287234399999996, -8.455050948117309, -37.1658336, -43.224937700000005, 3.7647222, -43.2843528, -43.3371976, -43.413638399999996, -40.324457, -43.2508881, -43.23117510590559, 23.3503665, -43.3704561, -43.2638849, -43.281726299999995, -43.197406, -43.937094200000004, -50.879119, -43.63695560000001, -43.44855689999999, -41.703036600000004, -43.3012102, -43.4155827, -43.342498299999995, -43.3592811, -43.353419099999996, -43.6388666, -48.6465251, -43.284222799999995, -47.42523189999999, -43.2955477, -48.220951, -69.3917347493333, -43.213198299999995, -43.3527794, -43.179895, -43.3253269, -0.8956662000000001, -43.4301032, -43.4634021, -35.823435700000005, -9.013685, -43.3963439, -43.2088566, -1.4269698, -43.3463053, -43.248205799999994, -47.878184000000005, -16.2540884, -43.1882138, -43.519851200000005, -54.661963, -43.2675329, -37.2071134, -9.2138076, -40.4205842, -43.4913887, -43.5288566, -43.694087200000006, -16.779809, -50.7805672, -40.2947268, -43.2381453, -38.63131149752317, -43.3060881, -45.3684095, 23.961872, -43.914912799999996, -43.4578117, 73.8129178, -43.3278646, -46.274758451651, -43.2408556, -43.3097039, -43.310058500000004, -43.2472627, -43.3032021, -43.402893299999995, -43.365775799999994, -53.491876, -43.175860899999996], \"name\": \"\", \"radius\": 10, \"subplot\": \"mapbox\", \"type\": \"densitymapbox\", \"z\": [932515.0, 588833.0, 874200.0, 912226.0, 553020.0, 1204467.0, 1092081.0, 808554.0, 35465.0, 2915612.0, 846531.0, 746904.0, 662520.0, 856901.0, 851362.0, 2211985.0, 755073.0, 1182272.0, 852714.0, 635348.0, 876113.0, 878140.0, 935061.0, 69645.0, 796395.0, 1073403.0, 791170.0, 774667.0, 825608.0, 488021.0, 837355.0, 855182.0, 912281.0, 702967.0, 621314.0, 88790.0, 2384494.0, 645088.0, 1041359.0, 219983.0, 607957.0, 748387.0, 846146.0, 808624.0, 916012.0, 818442.0, 805559.0, 903559.0, 932007.0, 764380.0, 1981817.0, 796321.0, 1297388.0, 684686.0, 736698.0, 641865.0, 1430429.0, 757466.0, 1004569.0, 1409134.0, 835491.0, 779768.0, 69304.0, 897049.0, 722087.0, 1289705.0, 688001.0, 346884.0, 1962438.0, 1030856.0, 493011.0, 822849.0, 94671.0, 527702.0, 795412.0, 1491476.0, 795430.0, 1448872.0, 959473.0, 1162364.0, 1775547.0, 1762798.0, 2119774.0, 1184553.0, 932622.0, 835847.0, 754735.0, 711591.0, 404476.0, 1384873.0, 24651.0, 726430.0, 905395.0, 1626856.0, 978197.0, 860621.0, 858291.0, 167586.0, 629794.0, 854818.0, 630075.0, 744303.0, 789315.0, 258464.0, 1121587.0, 832018.0, 593191.0, 908998.0, 808082.0, 826523.0, 810599.0, 950834.0, 1005886.0, 848230.0, 893640.0, 806166.0, 766893.0, 89769.0, 1596252.0, 934074.0, 928239.0, 720444.0, 789463.0, 922967.0, 710341.0, 59273.0, 806674.0, 43346.0, 703465.0, 536367.0, 752007.0, 1330747.0, 828172.0, 878830.0, 828677.0, 197681.0, 689701.0, 450723.0, 778067.0, 1014058.0, 752629.0, 2157079.0, 1200769.0, 722040.0, 798206.0, 1126244.0, 768425.0, 560631.0, 767430.0, 797801.0, 738591.0, 700834.0, 623144.0, 1100481.0, 1528242.0, 901446.0, 849731.0, 1127042.0, 921875.0, 919451.0]}],\n",
              "                        {\"coloraxis\": {\"colorbar\": {\"title\": {\"text\": \"faturamento\"}}, \"colorscale\": [[0.0, \"#0d0887\"], [0.1111111111111111, \"#46039f\"], [0.2222222222222222, \"#7201a8\"], [0.3333333333333333, \"#9c179e\"], [0.4444444444444444, \"#bd3786\"], [0.5555555555555556, \"#d8576b\"], [0.6666666666666666, \"#ed7953\"], [0.7777777777777778, \"#fb9f3a\"], [0.8888888888888888, \"#fdca26\"], [1.0, \"#f0f921\"]]}, \"legend\": {\"tracegroupgap\": 0}, \"mapbox\": {\"center\": {\"lat\": -22.9035, \"lon\": -43.2096}, \"domain\": {\"x\": [0.0, 1.0], \"y\": [0.0, 1.0]}, \"style\": \"stamen-terrain\", \"zoom\": 10}, \"margin\": {\"t\": 60}, \"template\": {\"data\": {\"bar\": [{\"error_x\": {\"color\": \"#2a3f5f\"}, \"error_y\": {\"color\": \"#2a3f5f\"}, \"marker\": {\"line\": {\"color\": \"#E5ECF6\", \"width\": 0.5}}, \"type\": \"bar\"}], \"barpolar\": [{\"marker\": {\"line\": {\"color\": \"#E5ECF6\", \"width\": 0.5}}, \"type\": \"barpolar\"}], \"carpet\": [{\"aaxis\": {\"endlinecolor\": \"#2a3f5f\", \"gridcolor\": \"white\", \"linecolor\": \"white\", \"minorgridcolor\": \"white\", \"startlinecolor\": \"#2a3f5f\"}, \"baxis\": {\"endlinecolor\": \"#2a3f5f\", \"gridcolor\": \"white\", \"linecolor\": \"white\", \"minorgridcolor\": \"white\", \"startlinecolor\": \"#2a3f5f\"}, \"type\": \"carpet\"}], \"choropleth\": [{\"colorbar\": {\"outlinewidth\": 0, \"ticks\": \"\"}, \"type\": \"choropleth\"}], \"contour\": [{\"colorbar\": {\"outlinewidth\": 0, \"ticks\": \"\"}, \"colorscale\": [[0.0, \"#0d0887\"], [0.1111111111111111, \"#46039f\"], [0.2222222222222222, \"#7201a8\"], [0.3333333333333333, \"#9c179e\"], [0.4444444444444444, \"#bd3786\"], [0.5555555555555556, \"#d8576b\"], [0.6666666666666666, \"#ed7953\"], [0.7777777777777778, \"#fb9f3a\"], [0.8888888888888888, \"#fdca26\"], [1.0, \"#f0f921\"]], \"type\": \"contour\"}], \"contourcarpet\": [{\"colorbar\": {\"outlinewidth\": 0, \"ticks\": \"\"}, \"type\": \"contourcarpet\"}], \"heatmap\": [{\"colorbar\": {\"outlinewidth\": 0, \"ticks\": \"\"}, \"colorscale\": [[0.0, \"#0d0887\"], [0.1111111111111111, \"#46039f\"], [0.2222222222222222, \"#7201a8\"], [0.3333333333333333, \"#9c179e\"], [0.4444444444444444, \"#bd3786\"], [0.5555555555555556, \"#d8576b\"], [0.6666666666666666, \"#ed7953\"], [0.7777777777777778, \"#fb9f3a\"], [0.8888888888888888, \"#fdca26\"], [1.0, \"#f0f921\"]], \"type\": \"heatmap\"}], \"heatmapgl\": [{\"colorbar\": {\"outlinewidth\": 0, \"ticks\": \"\"}, \"colorscale\": [[0.0, \"#0d0887\"], [0.1111111111111111, \"#46039f\"], [0.2222222222222222, \"#7201a8\"], [0.3333333333333333, \"#9c179e\"], [0.4444444444444444, \"#bd3786\"], [0.5555555555555556, \"#d8576b\"], [0.6666666666666666, \"#ed7953\"], [0.7777777777777778, \"#fb9f3a\"], [0.8888888888888888, \"#fdca26\"], [1.0, \"#f0f921\"]], \"type\": \"heatmapgl\"}], \"histogram\": [{\"marker\": {\"colorbar\": {\"outlinewidth\": 0, \"ticks\": \"\"}}, \"type\": \"histogram\"}], \"histogram2d\": [{\"colorbar\": {\"outlinewidth\": 0, \"ticks\": \"\"}, \"colorscale\": [[0.0, \"#0d0887\"], [0.1111111111111111, \"#46039f\"], [0.2222222222222222, \"#7201a8\"], [0.3333333333333333, \"#9c179e\"], [0.4444444444444444, \"#bd3786\"], [0.5555555555555556, \"#d8576b\"], [0.6666666666666666, \"#ed7953\"], [0.7777777777777778, \"#fb9f3a\"], [0.8888888888888888, \"#fdca26\"], [1.0, \"#f0f921\"]], \"type\": \"histogram2d\"}], \"histogram2dcontour\": [{\"colorbar\": {\"outlinewidth\": 0, \"ticks\": \"\"}, \"colorscale\": [[0.0, \"#0d0887\"], [0.1111111111111111, \"#46039f\"], [0.2222222222222222, \"#7201a8\"], [0.3333333333333333, \"#9c179e\"], [0.4444444444444444, \"#bd3786\"], [0.5555555555555556, \"#d8576b\"], [0.6666666666666666, \"#ed7953\"], [0.7777777777777778, \"#fb9f3a\"], [0.8888888888888888, \"#fdca26\"], [1.0, \"#f0f921\"]], \"type\": \"histogram2dcontour\"}], \"mesh3d\": [{\"colorbar\": {\"outlinewidth\": 0, \"ticks\": \"\"}, \"type\": \"mesh3d\"}], \"parcoords\": [{\"line\": {\"colorbar\": {\"outlinewidth\": 0, \"ticks\": \"\"}}, \"type\": \"parcoords\"}], \"pie\": [{\"automargin\": true, \"type\": \"pie\"}], \"scatter\": [{\"marker\": {\"colorbar\": {\"outlinewidth\": 0, \"ticks\": \"\"}}, \"type\": \"scatter\"}], \"scatter3d\": [{\"line\": {\"colorbar\": {\"outlinewidth\": 0, \"ticks\": \"\"}}, \"marker\": {\"colorbar\": {\"outlinewidth\": 0, \"ticks\": \"\"}}, \"type\": \"scatter3d\"}], \"scattercarpet\": [{\"marker\": {\"colorbar\": {\"outlinewidth\": 0, \"ticks\": \"\"}}, \"type\": \"scattercarpet\"}], \"scattergeo\": [{\"marker\": {\"colorbar\": {\"outlinewidth\": 0, \"ticks\": \"\"}}, \"type\": \"scattergeo\"}], \"scattergl\": [{\"marker\": {\"colorbar\": {\"outlinewidth\": 0, \"ticks\": \"\"}}, \"type\": \"scattergl\"}], \"scattermapbox\": [{\"marker\": {\"colorbar\": {\"outlinewidth\": 0, \"ticks\": \"\"}}, \"type\": \"scattermapbox\"}], \"scatterpolar\": [{\"marker\": {\"colorbar\": {\"outlinewidth\": 0, \"ticks\": \"\"}}, \"type\": \"scatterpolar\"}], \"scatterpolargl\": [{\"marker\": {\"colorbar\": {\"outlinewidth\": 0, \"ticks\": \"\"}}, \"type\": \"scatterpolargl\"}], \"scatterternary\": [{\"marker\": {\"colorbar\": {\"outlinewidth\": 0, \"ticks\": \"\"}}, \"type\": \"scatterternary\"}], \"surface\": [{\"colorbar\": {\"outlinewidth\": 0, \"ticks\": \"\"}, \"colorscale\": [[0.0, \"#0d0887\"], [0.1111111111111111, \"#46039f\"], [0.2222222222222222, \"#7201a8\"], [0.3333333333333333, \"#9c179e\"], [0.4444444444444444, \"#bd3786\"], [0.5555555555555556, \"#d8576b\"], [0.6666666666666666, \"#ed7953\"], [0.7777777777777778, \"#fb9f3a\"], [0.8888888888888888, \"#fdca26\"], [1.0, \"#f0f921\"]], \"type\": \"surface\"}], \"table\": [{\"cells\": {\"fill\": {\"color\": \"#EBF0F8\"}, \"line\": {\"color\": \"white\"}}, \"header\": {\"fill\": {\"color\": \"#C8D4E3\"}, \"line\": {\"color\": \"white\"}}, \"type\": \"table\"}]}, \"layout\": {\"annotationdefaults\": {\"arrowcolor\": \"#2a3f5f\", \"arrowhead\": 0, \"arrowwidth\": 1}, \"coloraxis\": {\"colorbar\": {\"outlinewidth\": 0, \"ticks\": \"\"}}, \"colorscale\": {\"diverging\": [[0, \"#8e0152\"], [0.1, \"#c51b7d\"], [0.2, \"#de77ae\"], [0.3, \"#f1b6da\"], [0.4, \"#fde0ef\"], [0.5, \"#f7f7f7\"], [0.6, \"#e6f5d0\"], [0.7, \"#b8e186\"], [0.8, \"#7fbc41\"], [0.9, \"#4d9221\"], [1, \"#276419\"]], \"sequential\": [[0.0, \"#0d0887\"], [0.1111111111111111, \"#46039f\"], [0.2222222222222222, \"#7201a8\"], [0.3333333333333333, \"#9c179e\"], [0.4444444444444444, \"#bd3786\"], [0.5555555555555556, \"#d8576b\"], [0.6666666666666666, \"#ed7953\"], [0.7777777777777778, \"#fb9f3a\"], [0.8888888888888888, \"#fdca26\"], [1.0, \"#f0f921\"]], \"sequentialminus\": [[0.0, \"#0d0887\"], [0.1111111111111111, \"#46039f\"], [0.2222222222222222, \"#7201a8\"], [0.3333333333333333, \"#9c179e\"], [0.4444444444444444, \"#bd3786\"], [0.5555555555555556, \"#d8576b\"], [0.6666666666666666, \"#ed7953\"], [0.7777777777777778, \"#fb9f3a\"], [0.8888888888888888, \"#fdca26\"], [1.0, \"#f0f921\"]]}, \"colorway\": [\"#636efa\", \"#EF553B\", \"#00cc96\", \"#ab63fa\", \"#FFA15A\", \"#19d3f3\", \"#FF6692\", \"#B6E880\", \"#FF97FF\", \"#FECB52\"], \"font\": {\"color\": \"#2a3f5f\"}, \"geo\": {\"bgcolor\": \"white\", \"lakecolor\": \"white\", \"landcolor\": \"#E5ECF6\", \"showlakes\": true, \"showland\": true, \"subunitcolor\": \"white\"}, \"hoverlabel\": {\"align\": \"left\"}, \"hovermode\": \"closest\", \"mapbox\": {\"style\": \"light\"}, \"paper_bgcolor\": \"white\", \"plot_bgcolor\": \"#E5ECF6\", \"polar\": {\"angularaxis\": {\"gridcolor\": \"white\", \"linecolor\": \"white\", \"ticks\": \"\"}, \"bgcolor\": \"#E5ECF6\", \"radialaxis\": {\"gridcolor\": \"white\", \"linecolor\": \"white\", \"ticks\": \"\"}}, \"scene\": {\"xaxis\": {\"backgroundcolor\": \"#E5ECF6\", \"gridcolor\": \"white\", \"gridwidth\": 2, \"linecolor\": \"white\", \"showbackground\": true, \"ticks\": \"\", \"zerolinecolor\": \"white\"}, \"yaxis\": {\"backgroundcolor\": \"#E5ECF6\", \"gridcolor\": \"white\", \"gridwidth\": 2, \"linecolor\": \"white\", \"showbackground\": true, \"ticks\": \"\", \"zerolinecolor\": \"white\"}, \"zaxis\": {\"backgroundcolor\": \"#E5ECF6\", \"gridcolor\": \"white\", \"gridwidth\": 2, \"linecolor\": \"white\", \"showbackground\": true, \"ticks\": \"\", \"zerolinecolor\": \"white\"}}, \"shapedefaults\": {\"line\": {\"color\": \"#2a3f5f\"}}, \"ternary\": {\"aaxis\": {\"gridcolor\": \"white\", \"linecolor\": \"white\", \"ticks\": \"\"}, \"baxis\": {\"gridcolor\": \"white\", \"linecolor\": \"white\", \"ticks\": \"\"}, \"bgcolor\": \"#E5ECF6\", \"caxis\": {\"gridcolor\": \"white\", \"linecolor\": \"white\", \"ticks\": \"\"}}, \"title\": {\"x\": 0.05}, \"xaxis\": {\"automargin\": true, \"gridcolor\": \"white\", \"linecolor\": \"white\", \"ticks\": \"\", \"title\": {\"standoff\": 15}, \"zerolinecolor\": \"white\", \"zerolinewidth\": 2}, \"yaxis\": {\"automargin\": true, \"gridcolor\": \"white\", \"linecolor\": \"white\", \"ticks\": \"\", \"title\": {\"standoff\": 15}, \"zerolinecolor\": \"white\", \"zerolinewidth\": 2}}}},\n",
              "                        {\"responsive\": true}\n",
              "                    ).then(function(){\n",
              "                            \n",
              "var gd = document.getElementById('27a69e52-3259-49d1-bf74-4199e52b4ed3');\n",
              "var x = new MutationObserver(function (mutations, observer) {{\n",
              "        var display = window.getComputedStyle(gd).display;\n",
              "        if (!display || display === 'none') {{\n",
              "            console.log([gd, 'removed!']);\n",
              "            Plotly.purge(gd);\n",
              "            observer.disconnect();\n",
              "        }}\n",
              "}});\n",
              "\n",
              "// Listen for the removal of the full notebook cells\n",
              "var notebookContainer = gd.closest('#notebook-container');\n",
              "if (notebookContainer) {{\n",
              "    x.observe(notebookContainer, {childList: true});\n",
              "}}\n",
              "\n",
              "// Listen for the clearing of the current output cell\n",
              "var outputEl = gd.closest('.output');\n",
              "if (outputEl) {{\n",
              "    x.observe(outputEl, {childList: true});\n",
              "}}\n",
              "\n",
              "                        })\n",
              "                };\n",
              "                \n",
              "            </script>\n",
              "        </div>\n",
              "</body>\n",
              "</html>"
            ]
          },
          "metadata": {
            "tags": []
          }
        }
      ]
    },
    {
      "cell_type": "markdown",
      "metadata": {
        "id": "j9asADzutXDE"
      },
      "source": [
        "# Modelo de Regressão"
      ]
    },
    {
      "cell_type": "code",
      "metadata": {
        "id": "CsQxso5sgVM9"
      },
      "source": [
        "# DataFrame padrão\n",
        "data = pd.read_csv('/content/drive/MyDrive/DesafioEstagioMachineLearning.csv', index_col=0)"
      ],
      "execution_count": null,
      "outputs": []
    },
    {
      "cell_type": "code",
      "metadata": {
        "colab": {
          "base_uri": "https://localhost:8080/"
        },
        "id": "xWtGrPXqGwLb",
        "outputId": "466d0148-f218-4f68-a340-b1de8558a8cb"
      },
      "source": [
        "data.isnull().sum()"
      ],
      "execution_count": null,
      "outputs": [
        {
          "output_type": "execute_result",
          "data": {
            "text/plain": [
              "nome            0\n",
              "cidade          0\n",
              "estado          0\n",
              "população       0\n",
              "popAte9         0\n",
              "popDe10a14      0\n",
              "popDe15a19      0\n",
              "popDe20a24      0\n",
              "popDe25a34      0\n",
              "popDe35a49      0\n",
              "popDe50a59      0\n",
              "popMaisDe60     0\n",
              "domiciliosA1    0\n",
              "domiciliosA2    0\n",
              "domiciliosB1    0\n",
              "domiciliosB2    0\n",
              "domiciliosC1    0\n",
              "domiciliosC2    0\n",
              "domiciliosD     0\n",
              "domiciliosE     0\n",
              "rendaMedia      6\n",
              "faturamento     0\n",
              "dtype: int64"
            ]
          },
          "metadata": {
            "tags": []
          },
          "execution_count": 51
        }
      ]
    },
    {
      "cell_type": "code",
      "metadata": {
        "colab": {
          "base_uri": "https://localhost:8080/"
        },
        "id": "u_-zK7wGZQ13",
        "outputId": "fe13204d-d091-4ee7-cdfb-51839dc68f92"
      },
      "source": [
        "data.columns"
      ],
      "execution_count": null,
      "outputs": [
        {
          "output_type": "execute_result",
          "data": {
            "text/plain": [
              "Index(['nome', 'cidade', 'estado', 'população', 'popAte9', 'popDe10a14',\n",
              "       'popDe15a19', 'popDe20a24', 'popDe25a34', 'popDe35a49', 'popDe50a59',\n",
              "       'popMaisDe60', 'domiciliosA1', 'domiciliosA2', 'domiciliosB1',\n",
              "       'domiciliosB2', 'domiciliosC1', 'domiciliosC2', 'domiciliosD',\n",
              "       'domiciliosE', 'rendaMedia', 'faturamento'],\n",
              "      dtype='object')"
            ]
          },
          "metadata": {
            "tags": []
          },
          "execution_count": 52
        }
      ]
    },
    {
      "cell_type": "code",
      "metadata": {
        "id": "rULkqbhfaF-h"
      },
      "source": [
        "feature_cols = ['população', 'popAte9', 'popDe10a14', 'popDe15a19', 'popDe20a24', 'popDe25a34', 'popDe35a49', 'popDe50a59', 'popMaisDe60', 'domiciliosA1', 'domiciliosA2', 'domiciliosB1', 'domiciliosB2', 'domiciliosC1', 'domiciliosC2', 'domiciliosD', 'domiciliosE', 'rendaMedia']"
      ],
      "execution_count": null,
      "outputs": []
    },
    {
      "cell_type": "code",
      "metadata": {
        "id": "0vnyfrJjOVD1"
      },
      "source": [
        "# Seis linhas que a Renda Media encontrava-se nula precisaram ser retiradas para o modelo de regressão\n",
        "X = data[feature_cols]\n",
        "X = X.dropna(subset=['rendaMedia'])"
      ],
      "execution_count": null,
      "outputs": []
    },
    {
      "cell_type": "code",
      "metadata": {
        "colab": {
          "base_uri": "https://localhost:8080/",
          "height": 470
        },
        "id": "Y-JsPABlfKxI",
        "outputId": "ebfda1ac-3e75-4880-df58-132b3f26a629"
      },
      "source": [
        "X"
      ],
      "execution_count": null,
      "outputs": [
        {
          "output_type": "execute_result",
          "data": {
            "text/html": [
              "<div>\n",
              "<style scoped>\n",
              "    .dataframe tbody tr th:only-of-type {\n",
              "        vertical-align: middle;\n",
              "    }\n",
              "\n",
              "    .dataframe tbody tr th {\n",
              "        vertical-align: top;\n",
              "    }\n",
              "\n",
              "    .dataframe thead th {\n",
              "        text-align: right;\n",
              "    }\n",
              "</style>\n",
              "<table border=\"1\" class=\"dataframe\">\n",
              "  <thead>\n",
              "    <tr style=\"text-align: right;\">\n",
              "      <th></th>\n",
              "      <th>população</th>\n",
              "      <th>popAte9</th>\n",
              "      <th>popDe10a14</th>\n",
              "      <th>popDe15a19</th>\n",
              "      <th>popDe20a24</th>\n",
              "      <th>popDe25a34</th>\n",
              "      <th>popDe35a49</th>\n",
              "      <th>popDe50a59</th>\n",
              "      <th>popMaisDe60</th>\n",
              "      <th>domiciliosA1</th>\n",
              "      <th>domiciliosA2</th>\n",
              "      <th>domiciliosB1</th>\n",
              "      <th>domiciliosB2</th>\n",
              "      <th>domiciliosC1</th>\n",
              "      <th>domiciliosC2</th>\n",
              "      <th>domiciliosD</th>\n",
              "      <th>domiciliosE</th>\n",
              "      <th>rendaMedia</th>\n",
              "    </tr>\n",
              "    <tr>\n",
              "      <th>codigo</th>\n",
              "      <th></th>\n",
              "      <th></th>\n",
              "      <th></th>\n",
              "      <th></th>\n",
              "      <th></th>\n",
              "      <th></th>\n",
              "      <th></th>\n",
              "      <th></th>\n",
              "      <th></th>\n",
              "      <th></th>\n",
              "      <th></th>\n",
              "      <th></th>\n",
              "      <th></th>\n",
              "      <th></th>\n",
              "      <th></th>\n",
              "      <th></th>\n",
              "      <th></th>\n",
              "      <th></th>\n",
              "    </tr>\n",
              "  </thead>\n",
              "  <tbody>\n",
              "    <tr>\n",
              "      <th>3304557060</th>\n",
              "      <td>11676</td>\n",
              "      <td>1027</td>\n",
              "      <td>483</td>\n",
              "      <td>688</td>\n",
              "      <td>800</td>\n",
              "      <td>1675</td>\n",
              "      <td>2300</td>\n",
              "      <td>1784</td>\n",
              "      <td>2919</td>\n",
              "      <td>0</td>\n",
              "      <td>145</td>\n",
              "      <td>715</td>\n",
              "      <td>1242</td>\n",
              "      <td>1093</td>\n",
              "      <td>758</td>\n",
              "      <td>92</td>\n",
              "      <td>304</td>\n",
              "      <td>2501.0</td>\n",
              "    </tr>\n",
              "    <tr>\n",
              "      <th>3304557138</th>\n",
              "      <td>27564</td>\n",
              "      <td>5131</td>\n",
              "      <td>2188</td>\n",
              "      <td>2697</td>\n",
              "      <td>2630</td>\n",
              "      <td>4810</td>\n",
              "      <td>5308</td>\n",
              "      <td>2403</td>\n",
              "      <td>2397</td>\n",
              "      <td>0</td>\n",
              "      <td>0</td>\n",
              "      <td>82</td>\n",
              "      <td>506</td>\n",
              "      <td>2040</td>\n",
              "      <td>2490</td>\n",
              "      <td>827</td>\n",
              "      <td>2506</td>\n",
              "      <td>931.0</td>\n",
              "    </tr>\n",
              "    <tr>\n",
              "      <th>3304557057</th>\n",
              "      <td>9003</td>\n",
              "      <td>883</td>\n",
              "      <td>399</td>\n",
              "      <td>597</td>\n",
              "      <td>762</td>\n",
              "      <td>1755</td>\n",
              "      <td>2076</td>\n",
              "      <td>1112</td>\n",
              "      <td>1419</td>\n",
              "      <td>0</td>\n",
              "      <td>96</td>\n",
              "      <td>404</td>\n",
              "      <td>652</td>\n",
              "      <td>644</td>\n",
              "      <td>522</td>\n",
              "      <td>77</td>\n",
              "      <td>254</td>\n",
              "      <td>2391.0</td>\n",
              "    </tr>\n",
              "    <tr>\n",
              "      <th>3304557031</th>\n",
              "      <td>9606</td>\n",
              "      <td>1072</td>\n",
              "      <td>538</td>\n",
              "      <td>660</td>\n",
              "      <td>685</td>\n",
              "      <td>1317</td>\n",
              "      <td>2007</td>\n",
              "      <td>1341</td>\n",
              "      <td>1986</td>\n",
              "      <td>114</td>\n",
              "      <td>178</td>\n",
              "      <td>393</td>\n",
              "      <td>517</td>\n",
              "      <td>945</td>\n",
              "      <td>584</td>\n",
              "      <td>137</td>\n",
              "      <td>286</td>\n",
              "      <td>3727.0</td>\n",
              "    </tr>\n",
              "    <tr>\n",
              "      <th>3304557125</th>\n",
              "      <td>57222</td>\n",
              "      <td>7677</td>\n",
              "      <td>3774</td>\n",
              "      <td>4892</td>\n",
              "      <td>4600</td>\n",
              "      <td>8660</td>\n",
              "      <td>12272</td>\n",
              "      <td>7157</td>\n",
              "      <td>8190</td>\n",
              "      <td>0</td>\n",
              "      <td>0</td>\n",
              "      <td>1089</td>\n",
              "      <td>2821</td>\n",
              "      <td>5110</td>\n",
              "      <td>5422</td>\n",
              "      <td>1073</td>\n",
              "      <td>3261</td>\n",
              "      <td>1380.0</td>\n",
              "    </tr>\n",
              "    <tr>\n",
              "      <th>...</th>\n",
              "      <td>...</td>\n",
              "      <td>...</td>\n",
              "      <td>...</td>\n",
              "      <td>...</td>\n",
              "      <td>...</td>\n",
              "      <td>...</td>\n",
              "      <td>...</td>\n",
              "      <td>...</td>\n",
              "      <td>...</td>\n",
              "      <td>...</td>\n",
              "      <td>...</td>\n",
              "      <td>...</td>\n",
              "      <td>...</td>\n",
              "      <td>...</td>\n",
              "      <td>...</td>\n",
              "      <td>...</td>\n",
              "      <td>...</td>\n",
              "      <td>...</td>\n",
              "    </tr>\n",
              "    <tr>\n",
              "      <th>3304557062</th>\n",
              "      <td>18791</td>\n",
              "      <td>1802</td>\n",
              "      <td>921</td>\n",
              "      <td>1442</td>\n",
              "      <td>1462</td>\n",
              "      <td>2500</td>\n",
              "      <td>3944</td>\n",
              "      <td>2920</td>\n",
              "      <td>3800</td>\n",
              "      <td>0</td>\n",
              "      <td>259</td>\n",
              "      <td>774</td>\n",
              "      <td>1363</td>\n",
              "      <td>1923</td>\n",
              "      <td>1379</td>\n",
              "      <td>190</td>\n",
              "      <td>405</td>\n",
              "      <td>2316.0</td>\n",
              "    </tr>\n",
              "    <tr>\n",
              "      <th>3304557093</th>\n",
              "      <td>13556</td>\n",
              "      <td>1888</td>\n",
              "      <td>787</td>\n",
              "      <td>1042</td>\n",
              "      <td>982</td>\n",
              "      <td>2542</td>\n",
              "      <td>2908</td>\n",
              "      <td>1528</td>\n",
              "      <td>1879</td>\n",
              "      <td>0</td>\n",
              "      <td>219</td>\n",
              "      <td>714</td>\n",
              "      <td>828</td>\n",
              "      <td>1051</td>\n",
              "      <td>1012</td>\n",
              "      <td>116</td>\n",
              "      <td>465</td>\n",
              "      <td>2416.0</td>\n",
              "    </tr>\n",
              "    <tr>\n",
              "      <th>3304557091</th>\n",
              "      <td>33190</td>\n",
              "      <td>3166</td>\n",
              "      <td>1619</td>\n",
              "      <td>2255</td>\n",
              "      <td>2326</td>\n",
              "      <td>4752</td>\n",
              "      <td>7183</td>\n",
              "      <td>4950</td>\n",
              "      <td>6939</td>\n",
              "      <td>0</td>\n",
              "      <td>906</td>\n",
              "      <td>2866</td>\n",
              "      <td>2241</td>\n",
              "      <td>2982</td>\n",
              "      <td>1200</td>\n",
              "      <td>360</td>\n",
              "      <td>772</td>\n",
              "      <td>3189.0</td>\n",
              "    </tr>\n",
              "    <tr>\n",
              "      <th>3304557065</th>\n",
              "      <td>8867</td>\n",
              "      <td>724</td>\n",
              "      <td>387</td>\n",
              "      <td>580</td>\n",
              "      <td>565</td>\n",
              "      <td>1205</td>\n",
              "      <td>1812</td>\n",
              "      <td>1474</td>\n",
              "      <td>2120</td>\n",
              "      <td>0</td>\n",
              "      <td>87</td>\n",
              "      <td>556</td>\n",
              "      <td>836</td>\n",
              "      <td>940</td>\n",
              "      <td>484</td>\n",
              "      <td>75</td>\n",
              "      <td>214</td>\n",
              "      <td>2418.0</td>\n",
              "    </tr>\n",
              "    <tr>\n",
              "      <th>3304557110</th>\n",
              "      <td>2072</td>\n",
              "      <td>175</td>\n",
              "      <td>74</td>\n",
              "      <td>120</td>\n",
              "      <td>121</td>\n",
              "      <td>318</td>\n",
              "      <td>417</td>\n",
              "      <td>314</td>\n",
              "      <td>533</td>\n",
              "      <td>0</td>\n",
              "      <td>89</td>\n",
              "      <td>234</td>\n",
              "      <td>177</td>\n",
              "      <td>147</td>\n",
              "      <td>72</td>\n",
              "      <td>10</td>\n",
              "      <td>47</td>\n",
              "      <td>3791.0</td>\n",
              "    </tr>\n",
              "  </tbody>\n",
              "</table>\n",
              "<p>154 rows × 18 columns</p>\n",
              "</div>"
            ],
            "text/plain": [
              "            população  popAte9  ...  domiciliosE  rendaMedia\n",
              "codigo                          ...                         \n",
              "3304557060      11676     1027  ...          304      2501.0\n",
              "3304557138      27564     5131  ...         2506       931.0\n",
              "3304557057       9003      883  ...          254      2391.0\n",
              "3304557031       9606     1072  ...          286      3727.0\n",
              "3304557125      57222     7677  ...         3261      1380.0\n",
              "...               ...      ...  ...          ...         ...\n",
              "3304557062      18791     1802  ...          405      2316.0\n",
              "3304557093      13556     1888  ...          465      2416.0\n",
              "3304557091      33190     3166  ...          772      3189.0\n",
              "3304557065       8867      724  ...          214      2418.0\n",
              "3304557110       2072      175  ...           47      3791.0\n",
              "\n",
              "[154 rows x 18 columns]"
            ]
          },
          "metadata": {
            "tags": []
          },
          "execution_count": 55
        }
      ]
    },
    {
      "cell_type": "code",
      "metadata": {
        "colab": {
          "base_uri": "https://localhost:8080/"
        },
        "id": "omSzDMPnbVNU",
        "outputId": "760c9bd2-b63d-4691-cb2b-3246d74a6234"
      },
      "source": [
        "X.isnull().any()\n",
        "#np.any(np.isinf(X))"
      ],
      "execution_count": null,
      "outputs": [
        {
          "output_type": "execute_result",
          "data": {
            "text/plain": [
              "população       False\n",
              "popAte9         False\n",
              "popDe10a14      False\n",
              "popDe15a19      False\n",
              "popDe20a24      False\n",
              "popDe25a34      False\n",
              "popDe35a49      False\n",
              "popDe50a59      False\n",
              "popMaisDe60     False\n",
              "domiciliosA1    False\n",
              "domiciliosA2    False\n",
              "domiciliosB1    False\n",
              "domiciliosB2    False\n",
              "domiciliosC1    False\n",
              "domiciliosC2    False\n",
              "domiciliosD     False\n",
              "domiciliosE     False\n",
              "rendaMedia      False\n",
              "dtype: bool"
            ]
          },
          "metadata": {
            "tags": []
          },
          "execution_count": 56
        }
      ]
    },
    {
      "cell_type": "code",
      "metadata": {
        "id": "v6KVuIdPXVD9"
      },
      "source": [
        "model_cols = ['população', 'popAte9', 'popDe10a14', 'popDe15a19', 'popDe20a24', 'popDe25a34', 'popDe35a49', 'popDe50a59', 'popMaisDe60', 'domiciliosA1', 'domiciliosA2', 'domiciliosB1', 'domiciliosB2', 'domiciliosC1', 'domiciliosC2', 'domiciliosD', 'domiciliosE', 'rendaMedia', 'faturamento']\n",
        "dpn = data[model_cols]\n",
        "dpn = dpn.dropna(subset=['rendaMedia'])\n",
        "y = dpn.faturamento"
      ],
      "execution_count": null,
      "outputs": []
    },
    {
      "cell_type": "code",
      "metadata": {
        "id": "v1ImjDDRXfL2"
      },
      "source": [
        "from sklearn.model_selection import train_test_split\n",
        "X_train, X_test, y_train, y_test = train_test_split(X, y, random_state=1)"
      ],
      "execution_count": null,
      "outputs": []
    },
    {
      "cell_type": "code",
      "metadata": {
        "colab": {
          "base_uri": "https://localhost:8080/"
        },
        "id": "lZcVbXuDX6iG",
        "outputId": "2f7b6929-2b69-430f-b533-f7fef4807aa6"
      },
      "source": [
        "from sklearn.linear_model import LinearRegression\n",
        "\n",
        "modelreg = LinearRegression()\n",
        "\n",
        "# fit the model to the training data (learn the coefficients)\n",
        "modelreg.fit(X_train, y_train)"
      ],
      "execution_count": null,
      "outputs": [
        {
          "output_type": "execute_result",
          "data": {
            "text/plain": [
              "LinearRegression(copy_X=True, fit_intercept=True, n_jobs=None, normalize=False)"
            ]
          },
          "metadata": {
            "tags": []
          },
          "execution_count": 59
        }
      ]
    },
    {
      "cell_type": "code",
      "metadata": {
        "id": "x6brXvSGYBLg"
      },
      "source": [
        "pred = modelreg.predict(X_test)"
      ],
      "execution_count": null,
      "outputs": []
    },
    {
      "cell_type": "markdown",
      "metadata": {
        "id": "UsxEKq59tiW7"
      },
      "source": [
        "Métricas de Performance do Modelo"
      ]
    },
    {
      "cell_type": "code",
      "metadata": {
        "colab": {
          "base_uri": "https://localhost:8080/"
        },
        "id": "WftX2naegdzq",
        "outputId": "f266aa57-9520-43ec-e7ae-601488e514ed"
      },
      "source": [
        "# Mean squared error\n",
        "import sklearn.metrics as metrics\n",
        "\n",
        "print(np.sqrt(metrics.mean_squared_error(y_test, pred)))"
      ],
      "execution_count": null,
      "outputs": [
        {
          "output_type": "stream",
          "text": [
            "146132.85318504946\n"
          ],
          "name": "stdout"
        }
      ]
    }
  ]
}